{
 "cells": [
  {
   "cell_type": "code",
   "execution_count": 3,
   "metadata": {},
   "outputs": [],
   "source": [
    "import os\n",
    "import shutil\n",
    "import time\n",
    "import numpy as np\n",
    "import sys\n",
    "from IPython.display import display, Markdown, HTML"
   ]
  },
  {
   "cell_type": "code",
   "execution_count": 3,
   "metadata": {},
   "outputs": [],
   "source": [
    "# Build an absolute path from this notebook's parent directory\n",
    "module_path = os.path.abspath(os.path.join('..','src'))\n",
    "\n",
    "# Add to sys.path if not already present\n",
    "if module_path not in sys.path:\n",
    "    sys.path.append(module_path)\n",
    "\n",
    "# Developed components\n",
    "from document_processor import DocumentProcessor\n",
    "from vector_store import VectorStore\n",
    "from retrieval import RetrievalSystem\n",
    "from intent_classifier import IntentClassifier\n",
    "from intent_handler import IntentHandlerManager, SessionState\n",
    "from question_generator import QuestionGenerator\n",
    "from answer_evaluator import AnswerEvaluator"
   ]
  },
  {
   "cell_type": "code",
   "execution_count": 4,
   "metadata": {},
   "outputs": [],
   "source": [
    "# Create a clean test directory for ChromaDB\n",
    "test_dir = \"test_integration_data\"\n",
    "if os.path.exists(test_dir):\n",
    "    shutil.rmtree(test_dir)\n",
    "os.makedirs(test_dir, exist_ok=True)"
   ]
  },
  {
   "cell_type": "markdown",
   "metadata": {},
   "source": [
    "### Initialize components\n",
    "---"
   ]
  },
  {
   "cell_type": "code",
   "execution_count": 5,
   "metadata": {
    "scrolled": true
   },
   "outputs": [
    {
     "name": "stderr",
     "output_type": "stream",
     "text": [
      "Config of the encoder: <class 'transformers.models.vit.modeling_vit.ViTModel'> is overwritten by shared encoder config: ViTConfig {\n",
      "  \"architectures\": [\n",
      "    \"ViTModel\"\n",
      "  ],\n",
      "  \"attention_probs_dropout_prob\": 0.0,\n",
      "  \"encoder_stride\": 16,\n",
      "  \"hidden_act\": \"gelu\",\n",
      "  \"hidden_dropout_prob\": 0.0,\n",
      "  \"hidden_size\": 768,\n",
      "  \"image_size\": 224,\n",
      "  \"initializer_range\": 0.02,\n",
      "  \"intermediate_size\": 3072,\n",
      "  \"layer_norm_eps\": 1e-12,\n",
      "  \"model_type\": \"vit\",\n",
      "  \"num_attention_heads\": 12,\n",
      "  \"num_channels\": 3,\n",
      "  \"num_hidden_layers\": 12,\n",
      "  \"patch_size\": 16,\n",
      "  \"qkv_bias\": true,\n",
      "  \"transformers_version\": \"4.48.1\"\n",
      "}\n",
      "\n",
      "Config of the decoder: <class 'transformers.models.gpt2.modeling_gpt2.GPT2LMHeadModel'> is overwritten by shared decoder config: GPT2Config {\n",
      "  \"activation_function\": \"gelu_new\",\n",
      "  \"add_cross_attention\": true,\n",
      "  \"architectures\": [\n",
      "    \"GPT2LMHeadModel\"\n",
      "  ],\n",
      "  \"attn_pdrop\": 0.1,\n",
      "  \"bos_token_id\": 50256,\n",
      "  \"decoder_start_token_id\": 50256,\n",
      "  \"embd_pdrop\": 0.1,\n",
      "  \"eos_token_id\": 50256,\n",
      "  \"initializer_range\": 0.02,\n",
      "  \"is_decoder\": true,\n",
      "  \"layer_norm_epsilon\": 1e-05,\n",
      "  \"model_type\": \"gpt2\",\n",
      "  \"n_ctx\": 1024,\n",
      "  \"n_embd\": 768,\n",
      "  \"n_head\": 12,\n",
      "  \"n_inner\": null,\n",
      "  \"n_layer\": 12,\n",
      "  \"n_positions\": 1024,\n",
      "  \"pad_token_id\": 50256,\n",
      "  \"reorder_and_upcast_attn\": false,\n",
      "  \"resid_pdrop\": 0.1,\n",
      "  \"scale_attn_by_inverse_layer_idx\": false,\n",
      "  \"scale_attn_weights\": true,\n",
      "  \"summary_activation\": null,\n",
      "  \"summary_first_dropout\": 0.1,\n",
      "  \"summary_proj_to_labels\": true,\n",
      "  \"summary_type\": \"cls_index\",\n",
      "  \"summary_use_proj\": true,\n",
      "  \"task_specific_params\": {\n",
      "    \"text-generation\": {\n",
      "      \"do_sample\": true,\n",
      "      \"max_length\": 50\n",
      "    }\n",
      "  },\n",
      "  \"transformers_version\": \"4.48.1\",\n",
      "  \"use_cache\": true,\n",
      "  \"vocab_size\": 50257\n",
      "}\n",
      "\n"
     ]
    }
   ],
   "source": [
    "# Initialize the document processor\n",
    "document_processor = DocumentProcessor(\n",
    "    embedding_model=\"all-MiniLM-L6-v2\",\n",
    "    chunk_size=1000,  # Adjust chunk size as needed\n",
    "    chunk_overlap=100\n",
    ")"
   ]
  },
  {
   "cell_type": "code",
   "execution_count": 6,
   "metadata": {},
   "outputs": [
    {
     "name": "stdout",
     "output_type": "stream",
     "text": [
      "Collection error: Collection test_collection does not exist.. Creating new collection.\n",
      "Created new collection 'test_collection'\n"
     ]
    }
   ],
   "source": [
    "# Initialize ChromaDB vector store\n",
    "vector_store = VectorStore(\n",
    "    collection_name=\"test_collection\",\n",
    "    persist_directory=test_dir\n",
    ")"
   ]
  },
  {
   "cell_type": "code",
   "execution_count": 7,
   "metadata": {},
   "outputs": [],
   "source": [
    "# Initialize retrieval system\n",
    "retrieval_system = RetrievalSystem(\n",
    "    vector_store=vector_store\n",
    ")"
   ]
  },
  {
   "cell_type": "code",
   "execution_count": 8,
   "metadata": {},
   "outputs": [],
   "source": [
    "question_generator = QuestionGenerator(\n",
    "    retrieval_system=retrieval_system,\n",
    "    use_local_llm=False,\n",
    "    use_ollama=True\n",
    ")"
   ]
  },
  {
   "cell_type": "code",
   "execution_count": 9,
   "metadata": {},
   "outputs": [],
   "source": [
    "answer_evaluator = AnswerEvaluator(\n",
    "    llm_backend='ollama',\n",
    "    use_local_llm=False,\n",
    "    use_ollama=True\n",
    ")"
   ]
  },
  {
   "cell_type": "code",
   "execution_count": 10,
   "metadata": {},
   "outputs": [],
   "source": [
    "classifier = IntentClassifier()"
   ]
  },
  {
   "cell_type": "code",
   "execution_count": 11,
   "metadata": {},
   "outputs": [],
   "source": [
    "handler_manager = IntentHandlerManager(\n",
    "    question_generator=question_generator,\n",
    "    answer_evaluator=answer_evaluator,\n",
    "    document_processor=document_processor\n",
    ")"
   ]
  },
  {
   "cell_type": "markdown",
   "metadata": {},
   "source": [
    "### Process Documents\n",
    "---"
   ]
  },
  {
   "cell_type": "code",
   "execution_count": 12,
   "metadata": {},
   "outputs": [],
   "source": [
    "def process_document(file_path):\n",
    "    \"\"\"Process a document and display results.\"\"\"\n",
    "    print(f\"### Processing: {os.path.basename(file_path)}\")\n",
    "    \n",
    "    start_time = time.time()\n",
    "    chunks = document_processor.process_document(file_path)\n",
    "    processing_time = time.time() - start_time\n",
    "    \n",
    "    print(f\"**Extracted {len(chunks)} chunks in {processing_time:.2f} seconds**\")\n",
    "    \n",
    "    # Display sample chunk info\n",
    "    if chunks:\n",
    "        display(Markdown(\"#### Sample chunk:\"))\n",
    "        display(Markdown(f\"**Content (excerpt):**\\n\\n{chunks[0]['content'][:200]}...\"))\n",
    "        display(Markdown(f\"**Embedding shape:** {chunks[0]['embedding'].shape}\"))\n",
    "        \n",
    "        # Display metadata\n",
    "        display(Markdown(\"**Metadata:**\"))\n",
    "        for key, value in chunks[0]['metadata'].items():\n",
    "            display(Markdown(f\"- {key}: {value}\"))\n",
    "    \n",
    "    return chunks"
   ]
  },
  {
   "cell_type": "code",
   "execution_count": 13,
   "metadata": {
    "scrolled": true
   },
   "outputs": [
    {
     "name": "stdout",
     "output_type": "stream",
     "text": [
      "### Processing: test.pdf\n"
     ]
    },
    {
     "name": "stderr",
     "output_type": "stream",
     "text": [
      "The attention mask is not set and cannot be inferred from input because pad token is same as eos token. As a consequence, you may observe unexpected behavior. Please pass your input's `attention_mask` to obtain reliable results.\n",
      "We strongly recommend passing in an `attention_mask` since your input_ids may be padded. See https://huggingface.co/docs/transformers/troubleshooting#incorrect-output-when-padding-tokens-arent-masked.\n",
      "You may ignore this warning if your `pad_token_id` (50256) is identical to the `bos_token_id` (50256), `eos_token_id` (50256), or the `sep_token_id` (None), and your input is not padded.\n"
     ]
    },
    {
     "name": "stdout",
     "output_type": "stream",
     "text": [
      "**Extracted 2128 chunks in 26.29 seconds**\n"
     ]
    },
    {
     "data": {
      "text/markdown": [
       "#### Sample chunk:"
      ],
      "text/plain": [
       "<IPython.core.display.Markdown object>"
      ]
     },
     "metadata": {},
     "output_type": "display_data"
    },
    {
     "data": {
      "text/markdown": [
       "**Content (excerpt):**\n",
       "\n",
       "Creativity & Innovation\n",
       "AHL3300 – AHL5300\n",
       "By Cristian Zaelzer Ph.D.\n",
       "7 to 9:50 PM – 200 Wilbrod 104\n",
       "..."
      ],
      "text/plain": [
       "<IPython.core.display.Markdown object>"
      ]
     },
     "metadata": {},
     "output_type": "display_data"
    },
    {
     "data": {
      "text/markdown": [
       "**Embedding shape:** (384,)"
      ],
      "text/plain": [
       "<IPython.core.display.Markdown object>"
      ]
     },
     "metadata": {},
     "output_type": "display_data"
    },
    {
     "data": {
      "text/markdown": [
       "**Metadata:**"
      ],
      "text/plain": [
       "<IPython.core.display.Markdown object>"
      ]
     },
     "metadata": {},
     "output_type": "display_data"
    },
    {
     "data": {
      "text/markdown": [
       "- source: test.pdf"
      ],
      "text/plain": [
       "<IPython.core.display.Markdown object>"
      ]
     },
     "metadata": {},
     "output_type": "display_data"
    },
    {
     "data": {
      "text/markdown": [
       "- chunk_id: 0"
      ],
      "text/plain": [
       "<IPython.core.display.Markdown object>"
      ]
     },
     "metadata": {},
     "output_type": "display_data"
    },
    {
     "data": {
      "text/markdown": [
       "- topics: ['innovation diversity', 'inclusion dei', 'zaelzer ph', 'person assigned', 'root causes']"
      ],
      "text/plain": [
       "<IPython.core.display.Markdown object>"
      ]
     },
     "metadata": {},
     "output_type": "display_data"
    },
    {
     "data": {
      "text/markdown": [
       "- page_number: 1"
      ],
      "text/plain": [
       "<IPython.core.display.Markdown object>"
      ]
     },
     "metadata": {},
     "output_type": "display_data"
    },
    {
     "name": "stdout",
     "output_type": "stream",
     "text": [
      "### Processing: test.pptx\n"
     ]
    },
    {
     "name": "stderr",
     "output_type": "stream",
     "text": [
      "huggingface/tokenizers: The current process just got forked, after parallelism has already been used. Disabling parallelism to avoid deadlocks...\n",
      "To disable this warning, you can either:\n",
      "\t- Avoid using `tokenizers` before the fork if possible\n",
      "\t- Explicitly set the environment variable TOKENIZERS_PARALLELISM=(true | false)\n",
      "huggingface/tokenizers: The current process just got forked, after parallelism has already been used. Disabling parallelism to avoid deadlocks...\n",
      "To disable this warning, you can either:\n",
      "\t- Avoid using `tokenizers` before the fork if possible\n",
      "\t- Explicitly set the environment variable TOKENIZERS_PARALLELISM=(true | false)\n",
      "huggingface/tokenizers: The current process just got forked, after parallelism has already been used. Disabling parallelism to avoid deadlocks...\n",
      "To disable this warning, you can either:\n",
      "\t- Avoid using `tokenizers` before the fork if possible\n",
      "\t- Explicitly set the environment variable TOKENIZERS_PARALLELISM=(true | false)\n",
      "huggingface/tokenizers: The current process just got forked, after parallelism has already been used. Disabling parallelism to avoid deadlocks...\n",
      "To disable this warning, you can either:\n",
      "\t- Avoid using `tokenizers` before the fork if possible\n",
      "\t- Explicitly set the environment variable TOKENIZERS_PARALLELISM=(true | false)\n",
      "huggingface/tokenizers: The current process just got forked, after parallelism has already been used. Disabling parallelism to avoid deadlocks...\n",
      "To disable this warning, you can either:\n",
      "\t- Avoid using `tokenizers` before the fork if possible\n",
      "\t- Explicitly set the environment variable TOKENIZERS_PARALLELISM=(true | false)\n",
      "huggingface/tokenizers: The current process just got forked, after parallelism has already been used. Disabling parallelism to avoid deadlocks...\n",
      "To disable this warning, you can either:\n",
      "\t- Avoid using `tokenizers` before the fork if possible\n",
      "\t- Explicitly set the environment variable TOKENIZERS_PARALLELISM=(true | false)\n",
      "huggingface/tokenizers: The current process just got forked, after parallelism has already been used. Disabling parallelism to avoid deadlocks...\n",
      "To disable this warning, you can either:\n",
      "\t- Avoid using `tokenizers` before the fork if possible\n",
      "\t- Explicitly set the environment variable TOKENIZERS_PARALLELISM=(true | false)\n",
      "huggingface/tokenizers: The current process just got forked, after parallelism has already been used. Disabling parallelism to avoid deadlocks...\n",
      "To disable this warning, you can either:\n",
      "\t- Avoid using `tokenizers` before the fork if possible\n",
      "\t- Explicitly set the environment variable TOKENIZERS_PARALLELISM=(true | false)\n",
      "huggingface/tokenizers: The current process just got forked, after parallelism has already been used. Disabling parallelism to avoid deadlocks...\n",
      "To disable this warning, you can either:\n",
      "\t- Avoid using `tokenizers` before the fork if possible\n",
      "\t- Explicitly set the environment variable TOKENIZERS_PARALLELISM=(true | false)\n",
      "huggingface/tokenizers: The current process just got forked, after parallelism has already been used. Disabling parallelism to avoid deadlocks...\n",
      "To disable this warning, you can either:\n",
      "\t- Avoid using `tokenizers` before the fork if possible\n",
      "\t- Explicitly set the environment variable TOKENIZERS_PARALLELISM=(true | false)\n",
      "huggingface/tokenizers: The current process just got forked, after parallelism has already been used. Disabling parallelism to avoid deadlocks...\n",
      "To disable this warning, you can either:\n",
      "\t- Avoid using `tokenizers` before the fork if possible\n",
      "\t- Explicitly set the environment variable TOKENIZERS_PARALLELISM=(true | false)\n",
      "huggingface/tokenizers: The current process just got forked, after parallelism has already been used. Disabling parallelism to avoid deadlocks...\n",
      "To disable this warning, you can either:\n",
      "\t- Avoid using `tokenizers` before the fork if possible\n",
      "\t- Explicitly set the environment variable TOKENIZERS_PARALLELISM=(true | false)\n",
      "huggingface/tokenizers: The current process just got forked, after parallelism has already been used. Disabling parallelism to avoid deadlocks...\n",
      "To disable this warning, you can either:\n",
      "\t- Avoid using `tokenizers` before the fork if possible\n",
      "\t- Explicitly set the environment variable TOKENIZERS_PARALLELISM=(true | false)\n",
      "huggingface/tokenizers: The current process just got forked, after parallelism has already been used. Disabling parallelism to avoid deadlocks...\n",
      "To disable this warning, you can either:\n",
      "\t- Avoid using `tokenizers` before the fork if possible\n",
      "\t- Explicitly set the environment variable TOKENIZERS_PARALLELISM=(true | false)\n",
      "huggingface/tokenizers: The current process just got forked, after parallelism has already been used. Disabling parallelism to avoid deadlocks...\n",
      "To disable this warning, you can either:\n",
      "\t- Avoid using `tokenizers` before the fork if possible\n",
      "\t- Explicitly set the environment variable TOKENIZERS_PARALLELISM=(true | false)\n",
      "huggingface/tokenizers: The current process just got forked, after parallelism has already been used. Disabling parallelism to avoid deadlocks...\n",
      "To disable this warning, you can either:\n",
      "\t- Avoid using `tokenizers` before the fork if possible\n",
      "\t- Explicitly set the environment variable TOKENIZERS_PARALLELISM=(true | false)\n",
      "huggingface/tokenizers: The current process just got forked, after parallelism has already been used. Disabling parallelism to avoid deadlocks...\n",
      "To disable this warning, you can either:\n",
      "\t- Avoid using `tokenizers` before the fork if possible\n",
      "\t- Explicitly set the environment variable TOKENIZERS_PARALLELISM=(true | false)\n",
      "huggingface/tokenizers: The current process just got forked, after parallelism has already been used. Disabling parallelism to avoid deadlocks...\n",
      "To disable this warning, you can either:\n",
      "\t- Avoid using `tokenizers` before the fork if possible\n",
      "\t- Explicitly set the environment variable TOKENIZERS_PARALLELISM=(true | false)\n",
      "huggingface/tokenizers: The current process just got forked, after parallelism has already been used. Disabling parallelism to avoid deadlocks...\n",
      "To disable this warning, you can either:\n",
      "\t- Avoid using `tokenizers` before the fork if possible\n",
      "\t- Explicitly set the environment variable TOKENIZERS_PARALLELISM=(true | false)\n",
      "huggingface/tokenizers: The current process just got forked, after parallelism has already been used. Disabling parallelism to avoid deadlocks...\n",
      "To disable this warning, you can either:\n",
      "\t- Avoid using `tokenizers` before the fork if possible\n",
      "\t- Explicitly set the environment variable TOKENIZERS_PARALLELISM=(true | false)\n",
      "huggingface/tokenizers: The current process just got forked, after parallelism has already been used. Disabling parallelism to avoid deadlocks...\n",
      "To disable this warning, you can either:\n",
      "\t- Avoid using `tokenizers` before the fork if possible\n",
      "\t- Explicitly set the environment variable TOKENIZERS_PARALLELISM=(true | false)\n",
      "huggingface/tokenizers: The current process just got forked, after parallelism has already been used. Disabling parallelism to avoid deadlocks...\n",
      "To disable this warning, you can either:\n",
      "\t- Avoid using `tokenizers` before the fork if possible\n",
      "\t- Explicitly set the environment variable TOKENIZERS_PARALLELISM=(true | false)\n",
      "huggingface/tokenizers: The current process just got forked, after parallelism has already been used. Disabling parallelism to avoid deadlocks...\n",
      "To disable this warning, you can either:\n",
      "\t- Avoid using `tokenizers` before the fork if possible\n",
      "\t- Explicitly set the environment variable TOKENIZERS_PARALLELISM=(true | false)\n",
      "huggingface/tokenizers: The current process just got forked, after parallelism has already been used. Disabling parallelism to avoid deadlocks...\n",
      "To disable this warning, you can either:\n",
      "\t- Avoid using `tokenizers` before the fork if possible\n",
      "\t- Explicitly set the environment variable TOKENIZERS_PARALLELISM=(true | false)\n",
      "huggingface/tokenizers: The current process just got forked, after parallelism has already been used. Disabling parallelism to avoid deadlocks...\n",
      "To disable this warning, you can either:\n",
      "\t- Avoid using `tokenizers` before the fork if possible\n",
      "\t- Explicitly set the environment variable TOKENIZERS_PARALLELISM=(true | false)\n",
      "huggingface/tokenizers: The current process just got forked, after parallelism has already been used. Disabling parallelism to avoid deadlocks...\n",
      "To disable this warning, you can either:\n",
      "\t- Avoid using `tokenizers` before the fork if possible\n",
      "\t- Explicitly set the environment variable TOKENIZERS_PARALLELISM=(true | false)\n",
      "huggingface/tokenizers: The current process just got forked, after parallelism has already been used. Disabling parallelism to avoid deadlocks...\n",
      "To disable this warning, you can either:\n",
      "\t- Avoid using `tokenizers` before the fork if possible\n",
      "\t- Explicitly set the environment variable TOKENIZERS_PARALLELISM=(true | false)\n",
      "huggingface/tokenizers: The current process just got forked, after parallelism has already been used. Disabling parallelism to avoid deadlocks...\n",
      "To disable this warning, you can either:\n",
      "\t- Avoid using `tokenizers` before the fork if possible\n",
      "\t- Explicitly set the environment variable TOKENIZERS_PARALLELISM=(true | false)\n",
      "huggingface/tokenizers: The current process just got forked, after parallelism has already been used. Disabling parallelism to avoid deadlocks...\n",
      "To disable this warning, you can either:\n",
      "\t- Avoid using `tokenizers` before the fork if possible\n",
      "\t- Explicitly set the environment variable TOKENIZERS_PARALLELISM=(true | false)\n",
      "huggingface/tokenizers: The current process just got forked, after parallelism has already been used. Disabling parallelism to avoid deadlocks...\n",
      "To disable this warning, you can either:\n",
      "\t- Avoid using `tokenizers` before the fork if possible\n",
      "\t- Explicitly set the environment variable TOKENIZERS_PARALLELISM=(true | false)\n",
      "huggingface/tokenizers: The current process just got forked, after parallelism has already been used. Disabling parallelism to avoid deadlocks...\n",
      "To disable this warning, you can either:\n",
      "\t- Avoid using `tokenizers` before the fork if possible\n",
      "\t- Explicitly set the environment variable TOKENIZERS_PARALLELISM=(true | false)\n",
      "huggingface/tokenizers: The current process just got forked, after parallelism has already been used. Disabling parallelism to avoid deadlocks...\n",
      "To disable this warning, you can either:\n",
      "\t- Avoid using `tokenizers` before the fork if possible\n",
      "\t- Explicitly set the environment variable TOKENIZERS_PARALLELISM=(true | false)\n",
      "huggingface/tokenizers: The current process just got forked, after parallelism has already been used. Disabling parallelism to avoid deadlocks...\n",
      "To disable this warning, you can either:\n",
      "\t- Avoid using `tokenizers` before the fork if possible\n",
      "\t- Explicitly set the environment variable TOKENIZERS_PARALLELISM=(true | false)\n",
      "huggingface/tokenizers: The current process just got forked, after parallelism has already been used. Disabling parallelism to avoid deadlocks...\n",
      "To disable this warning, you can either:\n",
      "\t- Avoid using `tokenizers` before the fork if possible\n",
      "\t- Explicitly set the environment variable TOKENIZERS_PARALLELISM=(true | false)\n",
      "huggingface/tokenizers: The current process just got forked, after parallelism has already been used. Disabling parallelism to avoid deadlocks...\n",
      "To disable this warning, you can either:\n",
      "\t- Avoid using `tokenizers` before the fork if possible\n",
      "\t- Explicitly set the environment variable TOKENIZERS_PARALLELISM=(true | false)\n",
      "huggingface/tokenizers: The current process just got forked, after parallelism has already been used. Disabling parallelism to avoid deadlocks...\n",
      "To disable this warning, you can either:\n",
      "\t- Avoid using `tokenizers` before the fork if possible\n",
      "\t- Explicitly set the environment variable TOKENIZERS_PARALLELISM=(true | false)\n",
      "huggingface/tokenizers: The current process just got forked, after parallelism has already been used. Disabling parallelism to avoid deadlocks...\n",
      "To disable this warning, you can either:\n",
      "\t- Avoid using `tokenizers` before the fork if possible\n",
      "\t- Explicitly set the environment variable TOKENIZERS_PARALLELISM=(true | false)\n",
      "huggingface/tokenizers: The current process just got forked, after parallelism has already been used. Disabling parallelism to avoid deadlocks...\n",
      "To disable this warning, you can either:\n",
      "\t- Avoid using `tokenizers` before the fork if possible\n",
      "\t- Explicitly set the environment variable TOKENIZERS_PARALLELISM=(true | false)\n",
      "huggingface/tokenizers: The current process just got forked, after parallelism has already been used. Disabling parallelism to avoid deadlocks...\n",
      "To disable this warning, you can either:\n",
      "\t- Avoid using `tokenizers` before the fork if possible\n",
      "\t- Explicitly set the environment variable TOKENIZERS_PARALLELISM=(true | false)\n",
      "huggingface/tokenizers: The current process just got forked, after parallelism has already been used. Disabling parallelism to avoid deadlocks...\n",
      "To disable this warning, you can either:\n",
      "\t- Avoid using `tokenizers` before the fork if possible\n",
      "\t- Explicitly set the environment variable TOKENIZERS_PARALLELISM=(true | false)\n",
      "huggingface/tokenizers: The current process just got forked, after parallelism has already been used. Disabling parallelism to avoid deadlocks...\n",
      "To disable this warning, you can either:\n",
      "\t- Avoid using `tokenizers` before the fork if possible\n",
      "\t- Explicitly set the environment variable TOKENIZERS_PARALLELISM=(true | false)\n",
      "huggingface/tokenizers: The current process just got forked, after parallelism has already been used. Disabling parallelism to avoid deadlocks...\n",
      "To disable this warning, you can either:\n",
      "\t- Avoid using `tokenizers` before the fork if possible\n",
      "\t- Explicitly set the environment variable TOKENIZERS_PARALLELISM=(true | false)\n",
      "huggingface/tokenizers: The current process just got forked, after parallelism has already been used. Disabling parallelism to avoid deadlocks...\n",
      "To disable this warning, you can either:\n",
      "\t- Avoid using `tokenizers` before the fork if possible\n",
      "\t- Explicitly set the environment variable TOKENIZERS_PARALLELISM=(true | false)\n",
      "huggingface/tokenizers: The current process just got forked, after parallelism has already been used. Disabling parallelism to avoid deadlocks...\n",
      "To disable this warning, you can either:\n",
      "\t- Avoid using `tokenizers` before the fork if possible\n",
      "\t- Explicitly set the environment variable TOKENIZERS_PARALLELISM=(true | false)\n",
      "huggingface/tokenizers: The current process just got forked, after parallelism has already been used. Disabling parallelism to avoid deadlocks...\n",
      "To disable this warning, you can either:\n",
      "\t- Avoid using `tokenizers` before the fork if possible\n",
      "\t- Explicitly set the environment variable TOKENIZERS_PARALLELISM=(true | false)\n",
      "huggingface/tokenizers: The current process just got forked, after parallelism has already been used. Disabling parallelism to avoid deadlocks...\n",
      "To disable this warning, you can either:\n",
      "\t- Avoid using `tokenizers` before the fork if possible\n",
      "\t- Explicitly set the environment variable TOKENIZERS_PARALLELISM=(true | false)\n",
      "huggingface/tokenizers: The current process just got forked, after parallelism has already been used. Disabling parallelism to avoid deadlocks...\n",
      "To disable this warning, you can either:\n",
      "\t- Avoid using `tokenizers` before the fork if possible\n",
      "\t- Explicitly set the environment variable TOKENIZERS_PARALLELISM=(true | false)\n",
      "huggingface/tokenizers: The current process just got forked, after parallelism has already been used. Disabling parallelism to avoid deadlocks...\n",
      "To disable this warning, you can either:\n",
      "\t- Avoid using `tokenizers` before the fork if possible\n",
      "\t- Explicitly set the environment variable TOKENIZERS_PARALLELISM=(true | false)\n",
      "huggingface/tokenizers: The current process just got forked, after parallelism has already been used. Disabling parallelism to avoid deadlocks...\n",
      "To disable this warning, you can either:\n",
      "\t- Avoid using `tokenizers` before the fork if possible\n",
      "\t- Explicitly set the environment variable TOKENIZERS_PARALLELISM=(true | false)\n",
      "huggingface/tokenizers: The current process just got forked, after parallelism has already been used. Disabling parallelism to avoid deadlocks...\n",
      "To disable this warning, you can either:\n",
      "\t- Avoid using `tokenizers` before the fork if possible\n",
      "\t- Explicitly set the environment variable TOKENIZERS_PARALLELISM=(true | false)\n",
      "huggingface/tokenizers: The current process just got forked, after parallelism has already been used. Disabling parallelism to avoid deadlocks...\n",
      "To disable this warning, you can either:\n",
      "\t- Avoid using `tokenizers` before the fork if possible\n",
      "\t- Explicitly set the environment variable TOKENIZERS_PARALLELISM=(true | false)\n",
      "huggingface/tokenizers: The current process just got forked, after parallelism has already been used. Disabling parallelism to avoid deadlocks...\n",
      "To disable this warning, you can either:\n",
      "\t- Avoid using `tokenizers` before the fork if possible\n",
      "\t- Explicitly set the environment variable TOKENIZERS_PARALLELISM=(true | false)\n",
      "huggingface/tokenizers: The current process just got forked, after parallelism has already been used. Disabling parallelism to avoid deadlocks...\n",
      "To disable this warning, you can either:\n",
      "\t- Avoid using `tokenizers` before the fork if possible\n",
      "\t- Explicitly set the environment variable TOKENIZERS_PARALLELISM=(true | false)\n",
      "huggingface/tokenizers: The current process just got forked, after parallelism has already been used. Disabling parallelism to avoid deadlocks...\n",
      "To disable this warning, you can either:\n",
      "\t- Avoid using `tokenizers` before the fork if possible\n",
      "\t- Explicitly set the environment variable TOKENIZERS_PARALLELISM=(true | false)\n",
      "huggingface/tokenizers: The current process just got forked, after parallelism has already been used. Disabling parallelism to avoid deadlocks...\n",
      "To disable this warning, you can either:\n",
      "\t- Avoid using `tokenizers` before the fork if possible\n",
      "\t- Explicitly set the environment variable TOKENIZERS_PARALLELISM=(true | false)\n",
      "huggingface/tokenizers: The current process just got forked, after parallelism has already been used. Disabling parallelism to avoid deadlocks...\n",
      "To disable this warning, you can either:\n",
      "\t- Avoid using `tokenizers` before the fork if possible\n",
      "\t- Explicitly set the environment variable TOKENIZERS_PARALLELISM=(true | false)\n",
      "huggingface/tokenizers: The current process just got forked, after parallelism has already been used. Disabling parallelism to avoid deadlocks...\n",
      "To disable this warning, you can either:\n",
      "\t- Avoid using `tokenizers` before the fork if possible\n",
      "\t- Explicitly set the environment variable TOKENIZERS_PARALLELISM=(true | false)\n"
     ]
    },
    {
     "name": "stdout",
     "output_type": "stream",
     "text": [
      "**Extracted 5905 chunks in 87.38 seconds**\n"
     ]
    },
    {
     "data": {
      "text/markdown": [
       "#### Sample chunk:"
      ],
      "text/plain": [
       "<IPython.core.display.Markdown object>"
      ]
     },
     "metadata": {},
     "output_type": "display_data"
    },
    {
     "data": {
      "text/markdown": [
       "**Content (excerpt):**\n",
       "\n",
       "Modeling and Analysis of the Course Retention and Graduation Rates of Engineering Students\n",
       "\n",
       "‹#›\n",
       "..."
      ],
      "text/plain": [
       "<IPython.core.display.Markdown object>"
      ]
     },
     "metadata": {},
     "output_type": "display_data"
    },
    {
     "data": {
      "text/markdown": [
       "**Embedding shape:** (384,)"
      ],
      "text/plain": [
       "<IPython.core.display.Markdown object>"
      ]
     },
     "metadata": {},
     "output_type": "display_data"
    },
    {
     "data": {
      "text/markdown": [
       "**Metadata:**"
      ],
      "text/plain": [
       "<IPython.core.display.Markdown object>"
      ]
     },
     "metadata": {},
     "output_type": "display_data"
    },
    {
     "data": {
      "text/markdown": [
       "- source: test.pptx"
      ],
      "text/plain": [
       "<IPython.core.display.Markdown object>"
      ]
     },
     "metadata": {},
     "output_type": "display_data"
    },
    {
     "data": {
      "text/markdown": [
       "- chunk_id: 0"
      ],
      "text/plain": [
       "<IPython.core.display.Markdown object>"
      ]
     },
     "metadata": {},
     "output_type": "display_data"
    },
    {
     "data": {
      "text/markdown": [
       "- topics: ['graduation retention', 'prediction comparison', 'hydrant building', 'remote controls', '68 1146']"
      ],
      "text/plain": [
       "<IPython.core.display.Markdown object>"
      ]
     },
     "metadata": {},
     "output_type": "display_data"
    },
    {
     "data": {
      "text/markdown": [
       "- page_number: 1"
      ],
      "text/plain": [
       "<IPython.core.display.Markdown object>"
      ]
     },
     "metadata": {},
     "output_type": "display_data"
    },
    {
     "name": "stdout",
     "output_type": "stream",
     "text": [
      "Total chunks: 8033\n"
     ]
    }
   ],
   "source": [
    "document_paths = [\n",
    "    \"test_files/test.pdf\",\n",
    "    \"test_files/test.pptx\"\n",
    "]\n",
    "\n",
    "all_chunks = []\n",
    "\n",
    "for doc_path in document_paths:\n",
    "    if os.path.exists(doc_path):\n",
    "        chunks = process_document(doc_path)\n",
    "        if chunks:\n",
    "            all_chunks.extend(chunks)\n",
    "    else:\n",
    "        display(Markdown(f\"**Warning:** File not found: {doc_path}\"))\n",
    "\n",
    "print(f\"Total chunks: {len(all_chunks)}\")"
   ]
  },
  {
   "cell_type": "markdown",
   "metadata": {},
   "source": [
    "### Store in Vector DB\n",
    "---"
   ]
  },
  {
   "cell_type": "code",
   "execution_count": 14,
   "metadata": {},
   "outputs": [
    {
     "data": {
      "text/markdown": [
       "### Adding 8033 document chunks to ChromaDB"
      ],
      "text/plain": [
       "<IPython.core.display.Markdown object>"
      ]
     },
     "metadata": {},
     "output_type": "display_data"
    },
    {
     "name": "stdout",
     "output_type": "stream",
     "text": [
      "Added 8033 documents to ChromaDB collection\n",
      "**Added all chunks in 2.62 seconds**\n",
      "**ChromaDB collection size:** 8033 documents\n"
     ]
    },
    {
     "data": {
      "text/markdown": [
       "**Available topics:** 68 1146, graduation retention, hydrant building, inclusion dei, innovation diversity, person assigned, prediction comparison, remote controls, root causes, zaelzer ph"
      ],
      "text/plain": [
       "<IPython.core.display.Markdown object>"
      ]
     },
     "metadata": {},
     "output_type": "display_data"
    }
   ],
   "source": [
    "if all_chunks:\n",
    "    display(Markdown(f\"### Adding {len(all_chunks)} document chunks to ChromaDB\"))\n",
    "    \n",
    "    start_time = time.time()\n",
    "    vector_store.add_documents(all_chunks)\n",
    "    add_time = time.time() - start_time\n",
    "    \n",
    "    collection_size = vector_store.get_collection_size()\n",
    "    print(f\"**Added all chunks in {add_time:.2f} seconds**\")\n",
    "    print(f\"**ChromaDB collection size:** {collection_size} documents\")\n",
    "    \n",
    "    # Get available topics\n",
    "    topics = vector_store.get_topics()\n",
    "    display(Markdown(f\"**Available topics:** {', '.join(topics)}\"))\n",
    "else:\n",
    "    display(Markdown(\"**No chunks extracted. Check your document paths.**\"))"
   ]
  },
  {
   "cell_type": "markdown",
   "metadata": {},
   "source": [
    "### Test Search in Vector DB\n",
    "---"
   ]
  },
  {
   "cell_type": "code",
   "execution_count": 15,
   "metadata": {},
   "outputs": [],
   "source": [
    "test_queries = [\n",
    "    \"What is SCAMPER?\",\n",
    "    \"What should leaders possess?\",\n",
    "    \"What is Support Vector Machine?\",\n",
    "    \"What is the project scope?\"\n",
    "]\n",
    "\n",
    "# Function to display search results nicely\n",
    "def display_search_results(query, results):\n",
    "    display(Markdown(f\"### Query: '{query}'\"))\n",
    "    \n",
    "    if not results:\n",
    "        display(Markdown(\"*No results found*\"))\n",
    "        return\n",
    "        \n",
    "    for i, result in enumerate(results):\n",
    "        display(Markdown(f\"#### Result {i+1} (Score: {result.get('similarity', 0):.4f})\"))\n",
    "        display(Markdown(f\"**Source:** {result['metadata'].get('source', 'Unknown')}, \" +\n",
    "                          f\"Page/Slide: {result['metadata'].get('page_number', 'Unknown')}\"))\n",
    "        display(Markdown(f\"**Content:**\\n\\n{result['content'][:300]}...\"))\n",
    "        display(Markdown(\"---\"))"
   ]
  },
  {
   "cell_type": "code",
   "execution_count": 16,
   "metadata": {
    "scrolled": true
   },
   "outputs": [
    {
     "data": {
      "text/markdown": [
       "## Search Results (0.03 seconds)"
      ],
      "text/plain": [
       "<IPython.core.display.Markdown object>"
      ]
     },
     "metadata": {},
     "output_type": "display_data"
    },
    {
     "data": {
      "text/markdown": [
       "### Query: 'What is SCAMPER?'"
      ],
      "text/plain": [
       "<IPython.core.display.Markdown object>"
      ]
     },
     "metadata": {},
     "output_type": "display_data"
    },
    {
     "data": {
      "text/markdown": [
       "#### Result 1 (Score: 0.4750)"
      ],
      "text/plain": [
       "<IPython.core.display.Markdown object>"
      ]
     },
     "metadata": {},
     "output_type": "display_data"
    },
    {
     "data": {
      "text/markdown": [
       "**Source:** test.pptx, Page/Slide: 5"
      ],
      "text/plain": [
       "<IPython.core.display.Markdown object>"
      ]
     },
     "metadata": {},
     "output_type": "display_data"
    },
    {
     "data": {
      "text/markdown": [
       "**Content:**\n",
       "\n",
       "xamples/\n",
       "\u000b",
       "\n",
       "..."
      ],
      "text/plain": [
       "<IPython.core.display.Markdown object>"
      ]
     },
     "metadata": {},
     "output_type": "display_data"
    },
    {
     "data": {
      "text/markdown": [
       "---"
      ],
      "text/plain": [
       "<IPython.core.display.Markdown object>"
      ]
     },
     "metadata": {},
     "output_type": "display_data"
    },
    {
     "data": {
      "text/markdown": [
       "#### Result 2 (Score: 0.4750)"
      ],
      "text/plain": [
       "<IPython.core.display.Markdown object>"
      ]
     },
     "metadata": {},
     "output_type": "display_data"
    },
    {
     "data": {
      "text/markdown": [
       "**Source:** test.pptx, Page/Slide: 6"
      ],
      "text/plain": [
       "<IPython.core.display.Markdown object>"
      ]
     },
     "metadata": {},
     "output_type": "display_data"
    },
    {
     "data": {
      "text/markdown": [
       "**Content:**\n",
       "\n",
       "xamples/\n",
       "\u000b",
       "\n",
       "..."
      ],
      "text/plain": [
       "<IPython.core.display.Markdown object>"
      ]
     },
     "metadata": {},
     "output_type": "display_data"
    },
    {
     "data": {
      "text/markdown": [
       "---"
      ],
      "text/plain": [
       "<IPython.core.display.Markdown object>"
      ]
     },
     "metadata": {},
     "output_type": "display_data"
    },
    {
     "data": {
      "text/markdown": [
       "#### Result 3 (Score: 0.4225)"
      ],
      "text/plain": [
       "<IPython.core.display.Markdown object>"
      ]
     },
     "metadata": {},
     "output_type": "display_data"
    },
    {
     "data": {
      "text/markdown": [
       "**Source:** test.pdf, Page/Slide: 11"
      ],
      "text/plain": [
       "<IPython.core.display.Markdown object>"
      ]
     },
     "metadata": {},
     "output_type": "display_data"
    },
    {
     "data": {
      "text/markdown": [
       "**Content:**\n",
       "\n",
       "swers.\n",
       "..."
      ],
      "text/plain": [
       "<IPython.core.display.Markdown object>"
      ]
     },
     "metadata": {},
     "output_type": "display_data"
    },
    {
     "data": {
      "text/markdown": [
       "---"
      ],
      "text/plain": [
       "<IPython.core.display.Markdown object>"
      ]
     },
     "metadata": {},
     "output_type": "display_data"
    },
    {
     "data": {
      "text/markdown": [
       "## Search Results (0.01 seconds)"
      ],
      "text/plain": [
       "<IPython.core.display.Markdown object>"
      ]
     },
     "metadata": {},
     "output_type": "display_data"
    },
    {
     "data": {
      "text/markdown": [
       "### Query: 'What should leaders possess?'"
      ],
      "text/plain": [
       "<IPython.core.display.Markdown object>"
      ]
     },
     "metadata": {},
     "output_type": "display_data"
    },
    {
     "data": {
      "text/markdown": [
       "#### Result 1 (Score: 0.5297)"
      ],
      "text/plain": [
       "<IPython.core.display.Markdown object>"
      ]
     },
     "metadata": {},
     "output_type": "display_data"
    },
    {
     "data": {
      "text/markdown": [
       "**Source:** test.pdf, Page/Slide: 9"
      ],
      "text/plain": [
       "<IPython.core.display.Markdown object>"
      ]
     },
     "metadata": {},
     "output_type": "display_data"
    },
    {
     "data": {
      "text/markdown": [
       "**Content:**\n",
       "\n",
       "he leader.\n",
       "Activity\n",
       "Leaders should model \n",
       "curiosity and openness.\n",
       "..."
      ],
      "text/plain": [
       "<IPython.core.display.Markdown object>"
      ]
     },
     "metadata": {},
     "output_type": "display_data"
    },
    {
     "data": {
      "text/markdown": [
       "---"
      ],
      "text/plain": [
       "<IPython.core.display.Markdown object>"
      ]
     },
     "metadata": {},
     "output_type": "display_data"
    },
    {
     "data": {
      "text/markdown": [
       "#### Result 2 (Score: 0.5292)"
      ],
      "text/plain": [
       "<IPython.core.display.Markdown object>"
      ]
     },
     "metadata": {},
     "output_type": "display_data"
    },
    {
     "data": {
      "text/markdown": [
       "**Source:** test.pdf, Page/Slide: 9"
      ],
      "text/plain": [
       "<IPython.core.display.Markdown object>"
      ]
     },
     "metadata": {},
     "output_type": "display_data"
    },
    {
     "data": {
      "text/markdown": [
       "**Content:**\n",
       "\n",
       "Leaders should model \n",
       "curiosity and openness.\n",
       "..."
      ],
      "text/plain": [
       "<IPython.core.display.Markdown object>"
      ]
     },
     "metadata": {},
     "output_type": "display_data"
    },
    {
     "data": {
      "text/markdown": [
       "---"
      ],
      "text/plain": [
       "<IPython.core.display.Markdown object>"
      ]
     },
     "metadata": {},
     "output_type": "display_data"
    },
    {
     "data": {
      "text/markdown": [
       "#### Result 3 (Score: 0.5292)"
      ],
      "text/plain": [
       "<IPython.core.display.Markdown object>"
      ]
     },
     "metadata": {},
     "output_type": "display_data"
    },
    {
     "data": {
      "text/markdown": [
       "**Source:** test.pdf, Page/Slide: 9"
      ],
      "text/plain": [
       "<IPython.core.display.Markdown object>"
      ]
     },
     "metadata": {},
     "output_type": "display_data"
    },
    {
     "data": {
      "text/markdown": [
       "**Content:**\n",
       "\n",
       "\n",
       "Leaders should model \n",
       "curiosity and openness.\n",
       "..."
      ],
      "text/plain": [
       "<IPython.core.display.Markdown object>"
      ]
     },
     "metadata": {},
     "output_type": "display_data"
    },
    {
     "data": {
      "text/markdown": [
       "---"
      ],
      "text/plain": [
       "<IPython.core.display.Markdown object>"
      ]
     },
     "metadata": {},
     "output_type": "display_data"
    },
    {
     "data": {
      "text/markdown": [
       "## Search Results (0.01 seconds)"
      ],
      "text/plain": [
       "<IPython.core.display.Markdown object>"
      ]
     },
     "metadata": {},
     "output_type": "display_data"
    },
    {
     "data": {
      "text/markdown": [
       "### Query: 'What is Support Vector Machine?'"
      ],
      "text/plain": [
       "<IPython.core.display.Markdown object>"
      ]
     },
     "metadata": {},
     "output_type": "display_data"
    },
    {
     "data": {
      "text/markdown": [
       "#### Result 1 (Score: 0.7687)"
      ],
      "text/plain": [
       "<IPython.core.display.Markdown object>"
      ]
     },
     "metadata": {},
     "output_type": "display_data"
    },
    {
     "data": {
      "text/markdown": [
       "**Source:** test.pptx, Page/Slide: 38"
      ],
      "text/plain": [
       "<IPython.core.display.Markdown object>"
      ]
     },
     "metadata": {},
     "output_type": "display_data"
    },
    {
     "data": {
      "text/markdown": [
       "**Content:**\n",
       "\n",
       "]\n",
       "Support Vector Machine\n",
       "Methodology - Technical Implementation\n",
       "..."
      ],
      "text/plain": [
       "<IPython.core.display.Markdown object>"
      ]
     },
     "metadata": {},
     "output_type": "display_data"
    },
    {
     "data": {
      "text/markdown": [
       "---"
      ],
      "text/plain": [
       "<IPython.core.display.Markdown object>"
      ]
     },
     "metadata": {},
     "output_type": "display_data"
    },
    {
     "data": {
      "text/markdown": [
       "#### Result 2 (Score: 0.7687)"
      ],
      "text/plain": [
       "<IPython.core.display.Markdown object>"
      ]
     },
     "metadata": {},
     "output_type": "display_data"
    },
    {
     "data": {
      "text/markdown": [
       "**Source:** test.pptx, Page/Slide: 38"
      ],
      "text/plain": [
       "<IPython.core.display.Markdown object>"
      ]
     },
     "metadata": {},
     "output_type": "display_data"
    },
    {
     "data": {
      "text/markdown": [
       "**Content:**\n",
       "\n",
       " ]\n",
       "Support Vector Machine\n",
       "Methodology - Technical Implementation\n",
       "..."
      ],
      "text/plain": [
       "<IPython.core.display.Markdown object>"
      ]
     },
     "metadata": {},
     "output_type": "display_data"
    },
    {
     "data": {
      "text/markdown": [
       "---"
      ],
      "text/plain": [
       "<IPython.core.display.Markdown object>"
      ]
     },
     "metadata": {},
     "output_type": "display_data"
    },
    {
     "data": {
      "text/markdown": [
       "#### Result 3 (Score: 0.7621)"
      ],
      "text/plain": [
       "<IPython.core.display.Markdown object>"
      ]
     },
     "metadata": {},
     "output_type": "display_data"
    },
    {
     "data": {
      "text/markdown": [
       "**Source:** test.pptx, Page/Slide: 38"
      ],
      "text/plain": [
       "<IPython.core.display.Markdown object>"
      ]
     },
     "metadata": {},
     "output_type": "display_data"
    },
    {
     "data": {
      "text/markdown": [
       "**Content:**\n",
       "\n",
       "ough a piece of paper ]\n",
       "Support Vector Machine\n",
       "Methodology - Technical Implementation\n",
       "..."
      ],
      "text/plain": [
       "<IPython.core.display.Markdown object>"
      ]
     },
     "metadata": {},
     "output_type": "display_data"
    },
    {
     "data": {
      "text/markdown": [
       "---"
      ],
      "text/plain": [
       "<IPython.core.display.Markdown object>"
      ]
     },
     "metadata": {},
     "output_type": "display_data"
    },
    {
     "data": {
      "text/markdown": [
       "## Search Results (0.01 seconds)"
      ],
      "text/plain": [
       "<IPython.core.display.Markdown object>"
      ]
     },
     "metadata": {},
     "output_type": "display_data"
    },
    {
     "data": {
      "text/markdown": [
       "### Query: 'What is the project scope?'"
      ],
      "text/plain": [
       "<IPython.core.display.Markdown object>"
      ]
     },
     "metadata": {},
     "output_type": "display_data"
    },
    {
     "data": {
      "text/markdown": [
       "#### Result 1 (Score: 0.5081)"
      ],
      "text/plain": [
       "<IPython.core.display.Markdown object>"
      ]
     },
     "metadata": {},
     "output_type": "display_data"
    },
    {
     "data": {
      "text/markdown": [
       "**Source:** test.pdf, Page/Slide: 16"
      ],
      "text/plain": [
       "<IPython.core.display.Markdown object>"
      ]
     },
     "metadata": {},
     "output_type": "display_data"
    },
    {
     "data": {
      "text/markdown": [
       "**Content:**\n",
       "\n",
       "S.M.A.R.T. Goals\n",
       "Example of a SMART project goal:\n",
       "When setting project goals, consider:\n",
       "Communication:\n",
       "Clearly communicate goals to all team \n",
       "members and stakeholders to ensure \n",
       "alignment and understanding.\n",
       "Flexibility:\n",
       "Be prepared to adjust goals based on changing \n",
       "circumstances or new information...."
      ],
      "text/plain": [
       "<IPython.core.display.Markdown object>"
      ]
     },
     "metadata": {},
     "output_type": "display_data"
    },
    {
     "data": {
      "text/markdown": [
       "---"
      ],
      "text/plain": [
       "<IPython.core.display.Markdown object>"
      ]
     },
     "metadata": {},
     "output_type": "display_data"
    },
    {
     "data": {
      "text/markdown": [
       "#### Result 2 (Score: 0.4788)"
      ],
      "text/plain": [
       "<IPython.core.display.Markdown object>"
      ]
     },
     "metadata": {},
     "output_type": "display_data"
    },
    {
     "data": {
      "text/markdown": [
       "**Source:** test.pdf, Page/Slide: 21"
      ],
      "text/plain": [
       "<IPython.core.display.Markdown object>"
      ]
     },
     "metadata": {},
     "output_type": "display_data"
    },
    {
     "data": {
      "text/markdown": [
       "**Content:**\n",
       "\n",
       "Deliver a prototype for:\n",
       "Project 1. A device that captures colour from real life and makes it \n",
       "available for digital applications.\n",
       "Project 2. An anti-thief system to avoid the robbery of cars in Ontario.\n",
       "Project 3. An easy-to-use app to help you replace imported products \n",
       "with Canadian-made products..."
      ],
      "text/plain": [
       "<IPython.core.display.Markdown object>"
      ]
     },
     "metadata": {},
     "output_type": "display_data"
    },
    {
     "data": {
      "text/markdown": [
       "---"
      ],
      "text/plain": [
       "<IPython.core.display.Markdown object>"
      ]
     },
     "metadata": {},
     "output_type": "display_data"
    },
    {
     "data": {
      "text/markdown": [
       "#### Result 3 (Score: 0.4754)"
      ],
      "text/plain": [
       "<IPython.core.display.Markdown object>"
      ]
     },
     "metadata": {},
     "output_type": "display_data"
    },
    {
     "data": {
      "text/markdown": [
       "**Source:** test.pdf, Page/Slide: 17"
      ],
      "text/plain": [
       "<IPython.core.display.Markdown object>"
      ]
     },
     "metadata": {},
     "output_type": "display_data"
    },
    {
     "data": {
      "text/markdown": [
       "**Content:**\n",
       "\n",
       "e project.\n",
       "2.\n",
       "You can use a template here in, S.M.A.R.T. Goals Template. \n",
       "Activity\n",
       "S.M.A.R.T. Goals\n",
       "..."
      ],
      "text/plain": [
       "<IPython.core.display.Markdown object>"
      ]
     },
     "metadata": {},
     "output_type": "display_data"
    },
    {
     "data": {
      "text/markdown": [
       "---"
      ],
      "text/plain": [
       "<IPython.core.display.Markdown object>"
      ]
     },
     "metadata": {},
     "output_type": "display_data"
    }
   ],
   "source": [
    "# Run searches\n",
    "for query in test_queries:\n",
    "    start_time = time.time()\n",
    "    results = retrieval_system.retrieve(query, top_k=3)\n",
    "    search_time = time.time() - start_time\n",
    "    \n",
    "    display(Markdown(f\"## Search Results ({search_time:.2f} seconds)\"))\n",
    "    display_search_results(query, results)"
   ]
  },
  {
   "cell_type": "markdown",
   "metadata": {},
   "source": [
    "### Retrieval System\n",
    "---"
   ]
  },
  {
   "cell_type": "code",
   "execution_count": 18,
   "metadata": {
    "scrolled": true
   },
   "outputs": [
    {
     "data": {
      "text/plain": [
       "[{'id': 'doc_622_622',\n",
       "  'content': ' a \\ngood leader?\\n\\n[IMAGE 1 CAPTION: a woman standing in front of a group of people ]\\n',\n",
       "  'metadata': {'chunk_id': 622,\n",
       "   'page_number': 7,\n",
       "   'source': 'test.pdf',\n",
       "   'topics': 'innovation diversity,inclusion dei,zaelzer ph,person assigned,root causes'},\n",
       "  'score': 0.7570015788078308,\n",
       "  'similarity': 0.5691514521452649,\n",
       "  'adjusted_score': 0.5691514521452649},\n",
       " {'id': 'doc_623_623',\n",
       "  'content': 'a \\ngood leader?\\n\\n[IMAGE 1 CAPTION: a woman standing in front of a group of people ]\\n',\n",
       "  'metadata': {'chunk_id': 623,\n",
       "   'page_number': 7,\n",
       "   'source': 'test.pdf',\n",
       "   'topics': 'innovation diversity,inclusion dei,zaelzer ph,person assigned,root causes'},\n",
       "  'score': 0.7570015788078308,\n",
       "  'similarity': 0.5691514521452649,\n",
       "  'adjusted_score': 0.5691514521452649},\n",
       " {'id': 'doc_606_606',\n",
       "  'content': 'Leaders should model \\ncuriosity and openness.\\nA good leader effectively \\ncommunicates their vision, \\nactively listens to their team, \\nfosters strong relationships, \\nempowers individuals, takes \\naccountability for outcomes, \\ndemonstrates integrity, and \\ninspires others to achieve goals \\nby leading by example, all while \\nadapting to changing situations \\nand promoting innovation.\\nHow to spot a \\ngood leader?\\n\\n[IMAGE 1 CAPTION: a woman standing in front of a group of people ]\\n',\n",
       "  'metadata': {'chunk_id': 606,\n",
       "   'page_number': 7,\n",
       "   'source': 'test.pdf',\n",
       "   'topics': 'innovation diversity,inclusion dei,zaelzer ph,person assigned,root causes'},\n",
       "  'score': 0.7724257707595825,\n",
       "  'similarity': 0.5641985218774181,\n",
       "  'adjusted_score': 0.5641985218774181},\n",
       " {'id': 'doc_620_620',\n",
       "  'content': 'ot a \\ngood leader?\\n\\n[IMAGE 1 CAPTION: a woman standing in front of a group of people ]\\n',\n",
       "  'metadata': {'chunk_id': 620,\n",
       "   'page_number': 7,\n",
       "   'source': 'test.pdf',\n",
       "   'topics': 'innovation diversity,inclusion dei,zaelzer ph,person assigned,root causes'},\n",
       "  'score': 0.7744656801223755,\n",
       "  'similarity': 0.5635499244657328,\n",
       "  'adjusted_score': 0.5635499244657328},\n",
       " {'id': 'doc_621_621',\n",
       "  'content': 't a \\ngood leader?\\n\\n[IMAGE 1 CAPTION: a woman standing in front of a group of people ]\\n',\n",
       "  'metadata': {'chunk_id': 621,\n",
       "   'page_number': 7,\n",
       "   'source': 'test.pdf',\n",
       "   'topics': 'innovation diversity,inclusion dei,zaelzer ph,person assigned,root causes'},\n",
       "  'score': 0.7953917980194092,\n",
       "  'similarity': 0.556981490671369,\n",
       "  'adjusted_score': 0.556981490671369},\n",
       " {'id': 'doc_809_809',\n",
       "  'content': '1.\\nProfessor will allocate individuals in each group as leaders based \\non their participation in previous classes.\\n2.\\n. Each person assigned as a leader will evaluate \\nherself/himself/themselves using the previous guidance on \\ndesirable leadership features and follow those guidelines as \\nbehaviour patterns.\\n3.\\nIf others in the group disagree with the leadership, it will be \\nimportant to establish the reasons and evaluate a new leader who \\nbetter fits the profile of the leader.\\nActivity\\nLeaders should model \\ncuriosity and openness.\\n',\n",
       "  'metadata': {'chunk_id': 809,\n",
       "   'page_number': 9,\n",
       "   'source': 'test.pdf',\n",
       "   'topics': 'innovation diversity,inclusion dei,zaelzer ph,person assigned,root causes'},\n",
       "  'score': 0.8052737712860107,\n",
       "  'similarity': 0.5539326034120778,\n",
       "  'adjusted_score': 0.5539326034120778},\n",
       " {'id': 'doc_617_617',\n",
       "  'content': ' spot a \\ngood leader?\\n\\n[IMAGE 1 CAPTION: a woman standing in front of a group of people ]\\n',\n",
       "  'metadata': {'chunk_id': 617,\n",
       "   'page_number': 7,\n",
       "   'source': 'test.pdf',\n",
       "   'topics': 'innovation diversity,inclusion dei,zaelzer ph,person assigned,root causes'},\n",
       "  'score': 0.8356736898422241,\n",
       "  'similarity': 0.5447591287784649,\n",
       "  'adjusted_score': 0.5447591287784649},\n",
       " {'id': 'doc_618_618',\n",
       "  'content': 'spot a \\ngood leader?\\n\\n[IMAGE 1 CAPTION: a woman standing in front of a group of people ]\\n',\n",
       "  'metadata': {'chunk_id': 618,\n",
       "   'page_number': 7,\n",
       "   'source': 'test.pdf',\n",
       "   'topics': 'innovation diversity,inclusion dei,zaelzer ph,person assigned,root causes'},\n",
       "  'score': 0.8356736898422241,\n",
       "  'similarity': 0.5447591287784649,\n",
       "  'adjusted_score': 0.5447591287784649},\n",
       " {'id': 'doc_616_616',\n",
       "  'content': 'o spot a \\ngood leader?\\n\\n[IMAGE 1 CAPTION: a woman standing in front of a group of people ]\\n',\n",
       "  'metadata': {'chunk_id': 616,\n",
       "   'page_number': 7,\n",
       "   'source': 'test.pdf',\n",
       "   'topics': 'innovation diversity,inclusion dei,zaelzer ph,person assigned,root causes'},\n",
       "  'score': 0.8599282503128052,\n",
       "  'similarity': 0.5376551487036226,\n",
       "  'adjusted_score': 0.5376551487036226},\n",
       " {'id': 'doc_613_613',\n",
       "  'content': 'w to spot a \\ngood leader?\\n\\n[IMAGE 1 CAPTION: a woman standing in front of a group of people ]\\n',\n",
       "  'metadata': {'chunk_id': 613,\n",
       "   'page_number': 7,\n",
       "   'source': 'test.pdf',\n",
       "   'topics': 'innovation diversity,inclusion dei,zaelzer ph,person assigned,root causes'},\n",
       "  'score': 0.8617033958435059,\n",
       "  'similarity': 0.5371424912435727,\n",
       "  'adjusted_score': 0.5371424912435727},\n",
       " {'id': 'doc_610_610',\n",
       "  'content': '\\nHow to spot a \\ngood leader?\\n\\n[IMAGE 1 CAPTION: a woman standing in front of a group of people ]\\n',\n",
       "  'metadata': {'chunk_id': 610,\n",
       "   'page_number': 7,\n",
       "   'source': 'test.pdf',\n",
       "   'topics': 'innovation diversity,inclusion dei,zaelzer ph,person assigned,root causes'},\n",
       "  'score': 0.8618056178092957,\n",
       "  'similarity': 0.5371129995711668,\n",
       "  'adjusted_score': 0.5371129995711668},\n",
       " {'id': 'doc_611_611',\n",
       "  'content': 'How to spot a \\ngood leader?\\n\\n[IMAGE 1 CAPTION: a woman standing in front of a group of people ]\\n',\n",
       "  'metadata': {'chunk_id': 611,\n",
       "   'page_number': 7,\n",
       "   'source': 'test.pdf',\n",
       "   'topics': 'innovation diversity,inclusion dei,zaelzer ph,person assigned,root causes'},\n",
       "  'score': 0.8618056178092957,\n",
       "  'similarity': 0.5371129995711668,\n",
       "  'adjusted_score': 0.5371129995711668},\n",
       " {'id': 'doc_624_624',\n",
       "  'content': ' \\ngood leader?\\n\\n[IMAGE 1 CAPTION: a woman standing in front of a group of people ]\\n',\n",
       "  'metadata': {'chunk_id': 624,\n",
       "   'page_number': 7,\n",
       "   'source': 'test.pdf',\n",
       "   'topics': 'innovation diversity,inclusion dei,zaelzer ph,person assigned,root causes'},\n",
       "  'score': 0.8659781813621521,\n",
       "  'similarity': 0.5359119468749663,\n",
       "  'adjusted_score': 0.5359119468749663},\n",
       " {'id': 'doc_626_626',\n",
       "  'content': 'good leader?\\n\\n[IMAGE 1 CAPTION: a woman standing in front of a group of people ]\\n',\n",
       "  'metadata': {'chunk_id': 626,\n",
       "   'page_number': 7,\n",
       "   'source': 'test.pdf',\n",
       "   'topics': 'innovation diversity,inclusion dei,zaelzer ph,person assigned,root causes'},\n",
       "  'score': 0.8659781813621521,\n",
       "  'similarity': 0.5359119468749663,\n",
       "  'adjusted_score': 0.5359119468749663},\n",
       " {'id': 'doc_625_625',\n",
       "  'content': '\\ngood leader?\\n\\n[IMAGE 1 CAPTION: a woman standing in front of a group of people ]\\n',\n",
       "  'metadata': {'chunk_id': 625,\n",
       "   'page_number': 7,\n",
       "   'source': 'test.pdf',\n",
       "   'topics': 'innovation diversity,inclusion dei,zaelzer ph,person assigned,root causes'},\n",
       "  'score': 0.8659781813621521,\n",
       "  'similarity': 0.5359119468749663,\n",
       "  'adjusted_score': 0.5359119468749663},\n",
       " {'id': 'doc_612_612',\n",
       "  'content': 'ow to spot a \\ngood leader?\\n\\n[IMAGE 1 CAPTION: a woman standing in front of a group of people ]\\n',\n",
       "  'metadata': {'chunk_id': 612,\n",
       "   'page_number': 7,\n",
       "   'source': 'test.pdf',\n",
       "   'topics': 'innovation diversity,inclusion dei,zaelzer ph,person assigned,root causes'},\n",
       "  'score': 0.8675649166107178,\n",
       "  'similarity': 0.5354566211357267,\n",
       "  'adjusted_score': 0.5354566211357267},\n",
       " {'id': 'doc_707_707',\n",
       "  'content': \"•Clear Communication:\\nArticulates goals and ideas \\nclearly, ensuring everyone \\nunderstands the direction.\\n•Active Listening:\\nPays attention to team \\nmembers' concerns and \\nfeedback.\\n•Empowerment:\\nProvides autonomy and trust to \\nteam members to make \\ndecisions and own their work.\\n•Relationship Building:\\nCreates a positive and \\ncollaborative environment by \\nvaluing individual \\ncontributions.\\n•Integrity:\\nActs ethically and consistently \\nwith their values, setting a \\nmoral example.\\nA Good \\nLeader’s \\nActions\\n•Accountability:\\nTakes responsibility for both \\nsuccesses and failures.\\n•Visionary Leadership:\\nSets a clear direction and \\ninspires the team to achieve \\nlong-term goals.\\n•Adaptability:\\nResponds effectively to \\nchanging circumstances and \\nchallenges.\\n•Positive Attitude:\\nMaintains optimism and \\nmotivates the team during \\ndifficult situations.\\n•Innovation:\\nEncourages creative thinking \\nand new approaches to \\nproblem-solving.\\n•Developing Others:\\nProvides mentorship and \\nopportunities for \",\n",
       "  'metadata': {'chunk_id': 707,\n",
       "   'page_number': 8,\n",
       "   'source': 'test.pdf',\n",
       "   'topics': 'innovation diversity,inclusion dei,zaelzer ph,person assigned,root causes'},\n",
       "  'score': 0.877216637134552,\n",
       "  'similarity': 0.5327035677280351,\n",
       "  'adjusted_score': 0.5327035677280351},\n",
       " {'id': 'doc_609_609',\n",
       "  'content': '.\\nHow to spot a \\ngood leader?\\n\\n[IMAGE 1 CAPTION: a woman standing in front of a group of people ]\\n',\n",
       "  'metadata': {'chunk_id': 609,\n",
       "   'page_number': 7,\n",
       "   'source': 'test.pdf',\n",
       "   'topics': 'innovation diversity,inclusion dei,zaelzer ph,person assigned,root causes'},\n",
       "  'score': 0.8790653944015503,\n",
       "  'similarity': 0.5321794563293964,\n",
       "  'adjusted_score': 0.5321794563293964},\n",
       " {'id': 'doc_607_607',\n",
       "  'content': 'on.\\nHow to spot a \\ngood leader?\\n\\n[IMAGE 1 CAPTION: a woman standing in front of a group of people ]\\n',\n",
       "  'metadata': {'chunk_id': 607,\n",
       "   'page_number': 7,\n",
       "   'source': 'test.pdf',\n",
       "   'topics': 'innovation diversity,inclusion dei,zaelzer ph,person assigned,root causes'},\n",
       "  'score': 0.9000858664512634,\n",
       "  'similarity': 0.526292004828009,\n",
       "  'adjusted_score': 0.526292004828009},\n",
       " {'id': 'doc_608_608',\n",
       "  'content': 'n.\\nHow to spot a \\ngood leader?\\n\\n[IMAGE 1 CAPTION: a woman standing in front of a group of people ]\\n',\n",
       "  'metadata': {'chunk_id': 608,\n",
       "   'page_number': 7,\n",
       "   'source': 'test.pdf',\n",
       "   'topics': 'innovation diversity,inclusion dei,zaelzer ph,person assigned,root causes'},\n",
       "  'score': 0.9001434445381165,\n",
       "  'similarity': 0.5262760571442427,\n",
       "  'adjusted_score': 0.5262760571442427},\n",
       " {'id': 'doc_615_615',\n",
       "  'content': 'to spot a \\ngood leader?\\n\\n[IMAGE 1 CAPTION: a woman standing in front of a group of people ]\\n',\n",
       "  'metadata': {'chunk_id': 615,\n",
       "   'page_number': 7,\n",
       "   'source': 'test.pdf',\n",
       "   'topics': 'innovation diversity,inclusion dei,zaelzer ph,person assigned,root causes'},\n",
       "  'score': 0.903083860874176,\n",
       "  'similarity': 0.5254629186654197,\n",
       "  'adjusted_score': 0.5254629186654197},\n",
       " {'id': 'doc_614_614',\n",
       "  'content': ' to spot a \\ngood leader?\\n\\n[IMAGE 1 CAPTION: a woman standing in front of a group of people ]\\n',\n",
       "  'metadata': {'chunk_id': 614,\n",
       "   'page_number': 7,\n",
       "   'source': 'test.pdf',\n",
       "   'topics': 'innovation diversity,inclusion dei,zaelzer ph,person assigned,root causes'},\n",
       "  'score': 0.903083860874176,\n",
       "  'similarity': 0.5254629186654197,\n",
       "  'adjusted_score': 0.5254629186654197},\n",
       " {'id': 'doc_619_619',\n",
       "  'content': 'pot a \\ngood leader?\\n\\n[IMAGE 1 CAPTION: a woman standing in front of a group of people ]\\n',\n",
       "  'metadata': {'chunk_id': 619,\n",
       "   'page_number': 7,\n",
       "   'source': 'test.pdf',\n",
       "   'topics': 'innovation diversity,inclusion dei,zaelzer ph,person assigned,root causes'},\n",
       "  'score': 0.9185343980789185,\n",
       "  'similarity': 0.5212312070095421,\n",
       "  'adjusted_score': 0.5212312070095421},\n",
       " {'id': 'doc_811_811',\n",
       "  'content': 'who \\nbetter fits the profile of the leader.\\nActivity\\nLeaders should model \\ncuriosity and openness.\\n',\n",
       "  'metadata': {'chunk_id': 811,\n",
       "   'page_number': 9,\n",
       "   'source': 'test.pdf',\n",
       "   'topics': 'innovation diversity,inclusion dei,zaelzer ph,person assigned,root causes'},\n",
       "  'score': 0.937735915184021,\n",
       "  'similarity': 0.5160661946574041,\n",
       "  'adjusted_score': 0.5160661946574041},\n",
       " {'id': 'doc_810_810',\n",
       "  'content': ' who \\nbetter fits the profile of the leader.\\nActivity\\nLeaders should model \\ncuriosity and openness.\\n',\n",
       "  'metadata': {'chunk_id': 810,\n",
       "   'page_number': 9,\n",
       "   'source': 'test.pdf',\n",
       "   'topics': 'innovation diversity,inclusion dei,zaelzer ph,person assigned,root causes'},\n",
       "  'score': 0.937735915184021,\n",
       "  'similarity': 0.5160661946574041,\n",
       "  'adjusted_score': 0.5160661946574041},\n",
       " {'id': 'doc_630_630',\n",
       "  'content': ' leader?\\n\\n[IMAGE 1 CAPTION: a woman standing in front of a group of people ]\\n',\n",
       "  'metadata': {'chunk_id': 630,\n",
       "   'page_number': 7,\n",
       "   'source': 'test.pdf',\n",
       "   'topics': 'innovation diversity,inclusion dei,zaelzer ph,person assigned,root causes'},\n",
       "  'score': 0.9465897679328918,\n",
       "  'similarity': 0.5137189234596217,\n",
       "  'adjusted_score': 0.5137189234596217},\n",
       " {'id': 'doc_631_631',\n",
       "  'content': 'leader?\\n\\n[IMAGE 1 CAPTION: a woman standing in front of a group of people ]\\n',\n",
       "  'metadata': {'chunk_id': 631,\n",
       "   'page_number': 7,\n",
       "   'source': 'test.pdf',\n",
       "   'topics': 'innovation diversity,inclusion dei,zaelzer ph,person assigned,root causes'},\n",
       "  'score': 0.9465897679328918,\n",
       "  'similarity': 0.5137189234596217,\n",
       "  'adjusted_score': 0.5137189234596217},\n",
       " {'id': 'doc_831_831',\n",
       "  'content': ' profile of the leader.\\nActivity\\nLeaders should model \\ncuriosity and openness.\\n',\n",
       "  'metadata': {'chunk_id': 831,\n",
       "   'page_number': 9,\n",
       "   'source': 'test.pdf',\n",
       "   'topics': 'innovation diversity,inclusion dei,zaelzer ph,person assigned,root causes'},\n",
       "  'score': 0.9526869058609009,\n",
       "  'similarity': 0.5121148695157147,\n",
       "  'adjusted_score': 0.5121148695157147},\n",
       " {'id': 'doc_832_832',\n",
       "  'content': 'profile of the leader.\\nActivity\\nLeaders should model \\ncuriosity and openness.\\n',\n",
       "  'metadata': {'chunk_id': 832,\n",
       "   'page_number': 9,\n",
       "   'source': 'test.pdf',\n",
       "   'topics': 'innovation diversity,inclusion dei,zaelzer ph,person assigned,root causes'},\n",
       "  'score': 0.9526869058609009,\n",
       "  'similarity': 0.5121148695157147,\n",
       "  'adjusted_score': 0.5121148695157147},\n",
       " {'id': 'doc_844_844',\n",
       "  'content': 'he leader.\\nActivity\\nLeaders should model \\ncuriosity and openness.\\n',\n",
       "  'metadata': {'chunk_id': 844,\n",
       "   'page_number': 9,\n",
       "   'source': 'test.pdf',\n",
       "   'topics': 'innovation diversity,inclusion dei,zaelzer ph,person assigned,root causes'},\n",
       "  'score': 0.9660812020301819,\n",
       "  'similarity': 0.5086259911174558,\n",
       "  'adjusted_score': 0.5086259911174558},\n",
       " {'id': 'doc_834_834',\n",
       "  'content': 'ofile of the leader.\\nActivity\\nLeaders should model \\ncuriosity and openness.\\n',\n",
       "  'metadata': {'chunk_id': 834,\n",
       "   'page_number': 9,\n",
       "   'source': 'test.pdf',\n",
       "   'topics': 'innovation diversity,inclusion dei,zaelzer ph,person assigned,root causes'},\n",
       "  'score': 0.9666672945022583,\n",
       "  'similarity': 0.5084744139466095,\n",
       "  'adjusted_score': 0.5084744139466095},\n",
       " {'id': 'doc_830_830',\n",
       "  'content': 'e profile of the leader.\\nActivity\\nLeaders should model \\ncuriosity and openness.\\n',\n",
       "  'metadata': {'chunk_id': 830,\n",
       "   'page_number': 9,\n",
       "   'source': 'test.pdf',\n",
       "   'topics': 'innovation diversity,inclusion dei,zaelzer ph,person assigned,root causes'},\n",
       "  'score': 0.9733748435974121,\n",
       "  'similarity': 0.5067460970451135,\n",
       "  'adjusted_score': 0.5067460970451135},\n",
       " {'id': 'doc_827_827',\n",
       "  'content': ' the profile of the leader.\\nActivity\\nLeaders should model \\ncuriosity and openness.\\n',\n",
       "  'metadata': {'chunk_id': 827,\n",
       "   'page_number': 9,\n",
       "   'source': 'test.pdf',\n",
       "   'topics': 'innovation diversity,inclusion dei,zaelzer ph,person assigned,root causes'},\n",
       "  'score': 0.9745177030563354,\n",
       "  'similarity': 0.5064527901938334,\n",
       "  'adjusted_score': 0.5064527901938334},\n",
       " {'id': 'doc_828_828',\n",
       "  'content': 'the profile of the leader.\\nActivity\\nLeaders should model \\ncuriosity and openness.\\n',\n",
       "  'metadata': {'chunk_id': 828,\n",
       "   'page_number': 9,\n",
       "   'source': 'test.pdf',\n",
       "   'topics': 'innovation diversity,inclusion dei,zaelzer ph,person assigned,root causes'},\n",
       "  'score': 0.9745177030563354,\n",
       "  'similarity': 0.5064527901938334,\n",
       "  'adjusted_score': 0.5064527901938334},\n",
       " {'id': 'doc_826_826',\n",
       "  'content': 's the profile of the leader.\\nActivity\\nLeaders should model \\ncuriosity and openness.\\n',\n",
       "  'metadata': {'chunk_id': 826,\n",
       "   'page_number': 9,\n",
       "   'source': 'test.pdf',\n",
       "   'topics': 'innovation diversity,inclusion dei,zaelzer ph,person assigned,root causes'},\n",
       "  'score': 0.9786822199821472,\n",
       "  'similarity': 0.5053868629845082,\n",
       "  'adjusted_score': 0.5053868629845082},\n",
       " {'id': 'doc_836_836',\n",
       "  'content': 'ile of the leader.\\nActivity\\nLeaders should model \\ncuriosity and openness.\\n',\n",
       "  'metadata': {'chunk_id': 836,\n",
       "   'page_number': 9,\n",
       "   'source': 'test.pdf',\n",
       "   'topics': 'innovation diversity,inclusion dei,zaelzer ph,person assigned,root causes'},\n",
       "  'score': 0.9888759255409241,\n",
       "  'similarity': 0.5027965732593527,\n",
       "  'adjusted_score': 0.5027965732593527},\n",
       " {'id': 'doc_825_825',\n",
       "  'content': 'ts the profile of the leader.\\nActivity\\nLeaders should model \\ncuriosity and openness.\\n',\n",
       "  'metadata': {'chunk_id': 825,\n",
       "   'page_number': 9,\n",
       "   'source': 'test.pdf',\n",
       "   'topics': 'innovation diversity,inclusion dei,zaelzer ph,person assigned,root causes'},\n",
       "  'score': 0.9930509924888611,\n",
       "  'similarity': 0.5017433090114922,\n",
       "  'adjusted_score': 0.5017433090114922},\n",
       " {'id': 'doc_824_824',\n",
       "  'content': 'its the profile of the leader.\\nActivity\\nLeaders should model \\ncuriosity and openness.\\n',\n",
       "  'metadata': {'chunk_id': 824,\n",
       "   'page_number': 9,\n",
       "   'source': 'test.pdf',\n",
       "   'topics': 'innovation diversity,inclusion dei,zaelzer ph,person assigned,root causes'},\n",
       "  'score': 0.9980536699295044,\n",
       "  'similarity': 0.5004870565039837,\n",
       "  'adjusted_score': 0.5004870565039837},\n",
       " {'id': 'doc_829_829',\n",
       "  'content': 'he profile of the leader.\\nActivity\\nLeaders should model \\ncuriosity and openness.\\n',\n",
       "  'metadata': {'chunk_id': 829,\n",
       "   'page_number': 9,\n",
       "   'source': 'test.pdf',\n",
       "   'topics': 'innovation diversity,inclusion dei,zaelzer ph,person assigned,root causes'},\n",
       "  'score': 1.0024887323379517,\n",
       "  'similarity': 0.499378590176873,\n",
       "  'adjusted_score': 0.499378590176873},\n",
       " {'id': 'doc_838_838',\n",
       "  'content': 'e of the leader.\\nActivity\\nLeaders should model \\ncuriosity and openness.\\n',\n",
       "  'metadata': {'chunk_id': 838,\n",
       "   'page_number': 9,\n",
       "   'source': 'test.pdf',\n",
       "   'topics': 'innovation diversity,inclusion dei,zaelzer ph,person assigned,root causes'},\n",
       "  'score': 1.0113590955734253,\n",
       "  'similarity': 0.49717626365216827,\n",
       "  'adjusted_score': 0.49717626365216827},\n",
       " {'id': 'doc_845_845',\n",
       "  'content': 'e leader.\\nActivity\\nLeaders should model \\ncuriosity and openness.\\n',\n",
       "  'metadata': {'chunk_id': 845,\n",
       "   'page_number': 9,\n",
       "   'source': 'test.pdf',\n",
       "   'topics': 'innovation diversity,inclusion dei,zaelzer ph,person assigned,root causes'},\n",
       "  'score': 1.0216596126556396,\n",
       "  'similarity': 0.4946431109074817,\n",
       "  'adjusted_score': 0.4946431109074817},\n",
       " {'id': 'doc_864_864',\n",
       "  'content': 'Leaders should model \\ncuriosity and openness.\\n',\n",
       "  'metadata': {'chunk_id': 864,\n",
       "   'page_number': 9,\n",
       "   'source': 'test.pdf',\n",
       "   'topics': 'innovation diversity,inclusion dei,zaelzer ph,person assigned,root causes'},\n",
       "  'score': 1.0220909118652344,\n",
       "  'similarity': 0.4945376066586301,\n",
       "  'adjusted_score': 0.4945376066586301},\n",
       " {'id': 'doc_863_863',\n",
       "  'content': '\\nLeaders should model \\ncuriosity and openness.\\n',\n",
       "  'metadata': {'chunk_id': 863,\n",
       "   'page_number': 9,\n",
       "   'source': 'test.pdf',\n",
       "   'topics': 'innovation diversity,inclusion dei,zaelzer ph,person assigned,root causes'},\n",
       "  'score': 1.0220909118652344,\n",
       "  'similarity': 0.4945376066586301,\n",
       "  'adjusted_score': 0.4945376066586301},\n",
       " {'id': 'doc_837_837',\n",
       "  'content': 'le of the leader.\\nActivity\\nLeaders should model \\ncuriosity and openness.\\n',\n",
       "  'metadata': {'chunk_id': 837,\n",
       "   'page_number': 9,\n",
       "   'source': 'test.pdf',\n",
       "   'topics': 'innovation diversity,inclusion dei,zaelzer ph,person assigned,root causes'},\n",
       "  'score': 1.0274797677993774,\n",
       "  'similarity': 0.49322317089526274,\n",
       "  'adjusted_score': 0.49322317089526274},\n",
       " {'id': 'doc_629_629',\n",
       "  'content': 'd leader?\\n\\n[IMAGE 1 CAPTION: a woman standing in front of a group of people ]\\n',\n",
       "  'metadata': {'chunk_id': 629,\n",
       "   'page_number': 7,\n",
       "   'source': 'test.pdf',\n",
       "   'topics': 'innovation diversity,inclusion dei,zaelzer ph,person assigned,root causes'},\n",
       "  'score': 1.0367807149887085,\n",
       "  'similarity': 0.49097087017811036,\n",
       "  'adjusted_score': 0.49097087017811036},\n",
       " {'id': 'doc_819_819',\n",
       "  'content': 'ter fits the profile of the leader.\\nActivity\\nLeaders should model \\ncuriosity and openness.\\n',\n",
       "  'metadata': {'chunk_id': 819,\n",
       "   'page_number': 9,\n",
       "   'source': 'test.pdf',\n",
       "   'topics': 'innovation diversity,inclusion dei,zaelzer ph,person assigned,root causes'},\n",
       "  'score': 1.0421051979064941,\n",
       "  'similarity': 0.4896907372965753,\n",
       "  'adjusted_score': 0.4896907372965753},\n",
       " {'id': 'doc_839_839',\n",
       "  'content': ' of the leader.\\nActivity\\nLeaders should model \\ncuriosity and openness.\\n',\n",
       "  'metadata': {'chunk_id': 839,\n",
       "   'page_number': 9,\n",
       "   'source': 'test.pdf',\n",
       "   'topics': 'innovation diversity,inclusion dei,zaelzer ph,person assigned,root causes'},\n",
       "  'score': 1.0503511428833008,\n",
       "  'similarity': 0.48772133664566,\n",
       "  'adjusted_score': 0.48772133664566},\n",
       " {'id': 'doc_840_840',\n",
       "  'content': 'of the leader.\\nActivity\\nLeaders should model \\ncuriosity and openness.\\n',\n",
       "  'metadata': {'chunk_id': 840,\n",
       "   'page_number': 9,\n",
       "   'source': 'test.pdf',\n",
       "   'topics': 'innovation diversity,inclusion dei,zaelzer ph,person assigned,root causes'},\n",
       "  'score': 1.0503511428833008,\n",
       "  'similarity': 0.48772133664566,\n",
       "  'adjusted_score': 0.48772133664566},\n",
       " {'id': 'doc_817_817',\n",
       "  'content': 'etter fits the profile of the leader.\\nActivity\\nLeaders should model \\ncuriosity and openness.\\n',\n",
       "  'metadata': {'chunk_id': 817,\n",
       "   'page_number': 9,\n",
       "   'source': 'test.pdf',\n",
       "   'topics': 'innovation diversity,inclusion dei,zaelzer ph,person assigned,root causes'},\n",
       "  'score': 1.0524028539657593,\n",
       "  'similarity': 0.4872337796976593,\n",
       "  'adjusted_score': 0.4872337796976593},\n",
       " {'id': 'doc_833_833',\n",
       "  'content': 'rofile of the leader.\\nActivity\\nLeaders should model \\ncuriosity and openness.\\n',\n",
       "  'metadata': {'chunk_id': 833,\n",
       "   'page_number': 9,\n",
       "   'source': 'test.pdf',\n",
       "   'topics': 'innovation diversity,inclusion dei,zaelzer ph,person assigned,root causes'},\n",
       "  'score': 1.0526057481765747,\n",
       "  'similarity': 0.4871856180312983,\n",
       "  'adjusted_score': 0.4871856180312983},\n",
       " {'id': 'doc_846_846',\n",
       "  'content': ' leader.\\nActivity\\nLeaders should model \\ncuriosity and openness.\\n',\n",
       "  'metadata': {'chunk_id': 846,\n",
       "   'page_number': 9,\n",
       "   'source': 'test.pdf',\n",
       "   'topics': 'innovation diversity,inclusion dei,zaelzer ph,person assigned,root causes'},\n",
       "  'score': 1.0569390058517456,\n",
       "  'similarity': 0.48615928676305886,\n",
       "  'adjusted_score': 0.48615928676305886},\n",
       " {'id': 'doc_847_847',\n",
       "  'content': 'leader.\\nActivity\\nLeaders should model \\ncuriosity and openness.\\n',\n",
       "  'metadata': {'chunk_id': 847,\n",
       "   'page_number': 9,\n",
       "   'source': 'test.pdf',\n",
       "   'topics': 'innovation diversity,inclusion dei,zaelzer ph,person assigned,root causes'},\n",
       "  'score': 1.0569390058517456,\n",
       "  'similarity': 0.48615928676305886,\n",
       "  'adjusted_score': 0.48615928676305886},\n",
       " {'id': 'doc_823_823',\n",
       "  'content': 'fits the profile of the leader.\\nActivity\\nLeaders should model \\ncuriosity and openness.\\n',\n",
       "  'metadata': {'chunk_id': 823,\n",
       "   'page_number': 9,\n",
       "   'source': 'test.pdf',\n",
       "   'topics': 'innovation diversity,inclusion dei,zaelzer ph,person assigned,root causes'},\n",
       "  'score': 1.0675994157791138,\n",
       "  'similarity': 0.48365268067324324,\n",
       "  'adjusted_score': 0.48365268067324324},\n",
       " {'id': 'doc_822_822',\n",
       "  'content': ' fits the profile of the leader.\\nActivity\\nLeaders should model \\ncuriosity and openness.\\n',\n",
       "  'metadata': {'chunk_id': 822,\n",
       "   'page_number': 9,\n",
       "   'source': 'test.pdf',\n",
       "   'topics': 'innovation diversity,inclusion dei,zaelzer ph,person assigned,root causes'},\n",
       "  'score': 1.0675994157791138,\n",
       "  'similarity': 0.48365268067324324,\n",
       "  'adjusted_score': 0.48365268067324324},\n",
       " {'id': 'doc_812_812',\n",
       "  'content': 'ho \\nbetter fits the profile of the leader.\\nActivity\\nLeaders should model \\ncuriosity and openness.\\n',\n",
       "  'metadata': {'chunk_id': 812,\n",
       "   'page_number': 9,\n",
       "   'source': 'test.pdf',\n",
       "   'topics': 'innovation diversity,inclusion dei,zaelzer ph,person assigned,root causes'},\n",
       "  'score': 1.0697275400161743,\n",
       "  'similarity': 0.4831553818876978,\n",
       "  'adjusted_score': 0.4831553818876978},\n",
       " {'id': 'doc_841_841',\n",
       "  'content': 'f the leader.\\nActivity\\nLeaders should model \\ncuriosity and openness.\\n',\n",
       "  'metadata': {'chunk_id': 841,\n",
       "   'page_number': 9,\n",
       "   'source': 'test.pdf',\n",
       "   'topics': 'innovation diversity,inclusion dei,zaelzer ph,person assigned,root causes'},\n",
       "  'score': 1.0725150108337402,\n",
       "  'similarity': 0.48250555232297965,\n",
       "  'adjusted_score': 0.48250555232297965},\n",
       " {'id': 'doc_859_859',\n",
       "  'content': 'vity\\nLeaders should model \\ncuriosity and openness.\\n',\n",
       "  'metadata': {'chunk_id': 859,\n",
       "   'page_number': 9,\n",
       "   'source': 'test.pdf',\n",
       "   'topics': 'innovation diversity,inclusion dei,zaelzer ph,person assigned,root causes'},\n",
       "  'score': 1.0849649906158447,\n",
       "  'similarity': 0.4796243603613823,\n",
       "  'adjusted_score': 0.4796243603613823},\n",
       " {'id': 'doc_820_820',\n",
       "  'content': 'er fits the profile of the leader.\\nActivity\\nLeaders should model \\ncuriosity and openness.\\n',\n",
       "  'metadata': {'chunk_id': 820,\n",
       "   'page_number': 9,\n",
       "   'source': 'test.pdf',\n",
       "   'topics': 'innovation diversity,inclusion dei,zaelzer ph,person assigned,root causes'},\n",
       "  'score': 1.088868498802185,\n",
       "  'similarity': 0.4787280772214372,\n",
       "  'adjusted_score': 0.4787280772214372},\n",
       " {'id': 'doc_814_814',\n",
       "  'content': ' \\nbetter fits the profile of the leader.\\nActivity\\nLeaders should model \\ncuriosity and openness.\\n',\n",
       "  'metadata': {'chunk_id': 814,\n",
       "   'page_number': 9,\n",
       "   'source': 'test.pdf',\n",
       "   'topics': 'innovation diversity,inclusion dei,zaelzer ph,person assigned,root causes'},\n",
       "  'score': 1.0950040817260742,\n",
       "  'similarity': 0.47732603899086434,\n",
       "  'adjusted_score': 0.47732603899086434},\n",
       " {'id': 'doc_816_816',\n",
       "  'content': 'better fits the profile of the leader.\\nActivity\\nLeaders should model \\ncuriosity and openness.\\n',\n",
       "  'metadata': {'chunk_id': 816,\n",
       "   'page_number': 9,\n",
       "   'source': 'test.pdf',\n",
       "   'topics': 'innovation diversity,inclusion dei,zaelzer ph,person assigned,root causes'},\n",
       "  'score': 1.0950040817260742,\n",
       "  'similarity': 0.47732603899086434,\n",
       "  'adjusted_score': 0.47732603899086434},\n",
       " {'id': 'doc_815_815',\n",
       "  'content': '\\nbetter fits the profile of the leader.\\nActivity\\nLeaders should model \\ncuriosity and openness.\\n',\n",
       "  'metadata': {'chunk_id': 815,\n",
       "   'page_number': 9,\n",
       "   'source': 'test.pdf',\n",
       "   'topics': 'innovation diversity,inclusion dei,zaelzer ph,person assigned,root causes'},\n",
       "  'score': 1.0950040817260742,\n",
       "  'similarity': 0.47732603899086434,\n",
       "  'adjusted_score': 0.47732603899086434},\n",
       " {'id': 'doc_835_835',\n",
       "  'content': 'file of the leader.\\nActivity\\nLeaders should model \\ncuriosity and openness.\\n',\n",
       "  'metadata': {'chunk_id': 835,\n",
       "   'page_number': 9,\n",
       "   'source': 'test.pdf',\n",
       "   'topics': 'innovation diversity,inclusion dei,zaelzer ph,person assigned,root causes'},\n",
       "  'score': 1.0986688137054443,\n",
       "  'similarity': 0.47649252396064506,\n",
       "  'adjusted_score': 0.47649252396064506},\n",
       " {'id': 'doc_842_842',\n",
       "  'content': ' the leader.\\nActivity\\nLeaders should model \\ncuriosity and openness.\\n',\n",
       "  'metadata': {'chunk_id': 842,\n",
       "   'page_number': 9,\n",
       "   'source': 'test.pdf',\n",
       "   'topics': 'innovation diversity,inclusion dei,zaelzer ph,person assigned,root causes'},\n",
       "  'score': 1.1005233526229858,\n",
       "  'similarity': 0.4760718316943586,\n",
       "  'adjusted_score': 0.4760718316943586},\n",
       " {'id': 'doc_843_843',\n",
       "  'content': 'the leader.\\nActivity\\nLeaders should model \\ncuriosity and openness.\\n',\n",
       "  'metadata': {'chunk_id': 843,\n",
       "   'page_number': 9,\n",
       "   'source': 'test.pdf',\n",
       "   'topics': 'innovation diversity,inclusion dei,zaelzer ph,person assigned,root causes'},\n",
       "  'score': 1.1005233526229858,\n",
       "  'similarity': 0.4760718316943586,\n",
       "  'adjusted_score': 0.4760718316943586},\n",
       " {'id': 'doc_818_818',\n",
       "  'content': 'tter fits the profile of the leader.\\nActivity\\nLeaders should model \\ncuriosity and openness.\\n',\n",
       "  'metadata': {'chunk_id': 818,\n",
       "   'page_number': 9,\n",
       "   'source': 'test.pdf',\n",
       "   'topics': 'innovation diversity,inclusion dei,zaelzer ph,person assigned,root causes'},\n",
       "  'score': 1.101762056350708,\n",
       "  'similarity': 0.47579125190617494,\n",
       "  'adjusted_score': 0.47579125190617494},\n",
       " {'id': 'doc_860_860',\n",
       "  'content': 'ity\\nLeaders should model \\ncuriosity and openness.\\n',\n",
       "  'metadata': {'chunk_id': 860,\n",
       "   'page_number': 9,\n",
       "   'source': 'test.pdf',\n",
       "   'topics': 'innovation diversity,inclusion dei,zaelzer ph,person assigned,root causes'},\n",
       "  'score': 1.1031526327133179,\n",
       "  'similarity': 0.47547666510056413,\n",
       "  'adjusted_score': 0.47547666510056413},\n",
       " {'id': 'doc_861_861',\n",
       "  'content': 'ty\\nLeaders should model \\ncuriosity and openness.\\n',\n",
       "  'metadata': {'chunk_id': 861,\n",
       "   'page_number': 9,\n",
       "   'source': 'test.pdf',\n",
       "   'topics': 'innovation diversity,inclusion dei,zaelzer ph,person assigned,root causes'},\n",
       "  'score': 1.1049492359161377,\n",
       "  'similarity': 0.4750708392094642,\n",
       "  'adjusted_score': 0.4750708392094642},\n",
       " {'id': 'doc_858_858',\n",
       "  'content': 'ivity\\nLeaders should model \\ncuriosity and openness.\\n',\n",
       "  'metadata': {'chunk_id': 858,\n",
       "   'page_number': 9,\n",
       "   'source': 'test.pdf',\n",
       "   'topics': 'innovation diversity,inclusion dei,zaelzer ph,person assigned,root causes'},\n",
       "  'score': 1.1123371124267578,\n",
       "  'similarity': 0.4734092840186623,\n",
       "  'adjusted_score': 0.4734092840186623},\n",
       " {'id': 'doc_821_821',\n",
       "  'content': 'r fits the profile of the leader.\\nActivity\\nLeaders should model \\ncuriosity and openness.\\n',\n",
       "  'metadata': {'chunk_id': 821,\n",
       "   'page_number': 9,\n",
       "   'source': 'test.pdf',\n",
       "   'topics': 'innovation diversity,inclusion dei,zaelzer ph,person assigned,root causes'},\n",
       "  'score': 1.1140563488006592,\n",
       "  'similarity': 0.4730242883863135,\n",
       "  'adjusted_score': 0.4730242883863135},\n",
       " {'id': 'doc_856_856',\n",
       "  'content': 'ctivity\\nLeaders should model \\ncuriosity and openness.\\n',\n",
       "  'metadata': {'chunk_id': 856,\n",
       "   'page_number': 9,\n",
       "   'source': 'test.pdf',\n",
       "   'topics': 'innovation diversity,inclusion dei,zaelzer ph,person assigned,root causes'},\n",
       "  'score': 1.1210626363754272,\n",
       "  'similarity': 0.4714617960122326,\n",
       "  'adjusted_score': 0.4714617960122326},\n",
       " {'id': 'doc_628_628',\n",
       "  'content': 'od leader?\\n\\n[IMAGE 1 CAPTION: a woman standing in front of a group of people ]\\n',\n",
       "  'metadata': {'chunk_id': 628,\n",
       "   'page_number': 7,\n",
       "   'source': 'test.pdf',\n",
       "   'topics': 'innovation diversity,inclusion dei,zaelzer ph,person assigned,root causes'},\n",
       "  'score': 1.1255966424942017,\n",
       "  'similarity': 0.4704561439401727,\n",
       "  'adjusted_score': 0.4704561439401727},\n",
       " {'id': 'doc_813_813',\n",
       "  'content': 'o \\nbetter fits the profile of the leader.\\nActivity\\nLeaders should model \\ncuriosity and openness.\\n',\n",
       "  'metadata': {'chunk_id': 813,\n",
       "   'page_number': 9,\n",
       "   'source': 'test.pdf',\n",
       "   'topics': 'innovation diversity,inclusion dei,zaelzer ph,person assigned,root causes'},\n",
       "  'score': 1.1305344104766846,\n",
       "  'similarity': 0.46936580563195907,\n",
       "  'adjusted_score': 0.46936580563195907},\n",
       " {'id': 'doc_627_627',\n",
       "  'content': 'ood leader?\\n\\n[IMAGE 1 CAPTION: a woman standing in front of a group of people ]\\n',\n",
       "  'metadata': {'chunk_id': 627,\n",
       "   'page_number': 7,\n",
       "   'source': 'test.pdf',\n",
       "   'topics': 'innovation diversity,inclusion dei,zaelzer ph,person assigned,root causes'},\n",
       "  'score': 1.1457123756408691,\n",
       "  'similarity': 0.46604568783424466,\n",
       "  'adjusted_score': 0.46604568783424466},\n",
       " {'id': 'doc_862_862',\n",
       "  'content': 'y\\nLeaders should model \\ncuriosity and openness.\\n',\n",
       "  'metadata': {'chunk_id': 862,\n",
       "   'page_number': 9,\n",
       "   'source': 'test.pdf',\n",
       "   'topics': 'innovation diversity,inclusion dei,zaelzer ph,person assigned,root causes'},\n",
       "  'score': 1.1464194059371948,\n",
       "  'similarity': 0.4658921724402544,\n",
       "  'adjusted_score': 0.4658921724402544},\n",
       " {'id': 'doc_850_850',\n",
       "  'content': 'der.\\nActivity\\nLeaders should model \\ncuriosity and openness.\\n',\n",
       "  'metadata': {'chunk_id': 850,\n",
       "   'page_number': 9,\n",
       "   'source': 'test.pdf',\n",
       "   'topics': 'innovation diversity,inclusion dei,zaelzer ph,person assigned,root causes'},\n",
       "  'score': 1.205122947692871,\n",
       "  'similarity': 0.45348945329613416,\n",
       "  'adjusted_score': 0.45348945329613416},\n",
       " {'id': 'doc_854_854',\n",
       "  'content': '\\nActivity\\nLeaders should model \\ncuriosity and openness.\\n',\n",
       "  'metadata': {'chunk_id': 854,\n",
       "   'page_number': 9,\n",
       "   'source': 'test.pdf',\n",
       "   'topics': 'innovation diversity,inclusion dei,zaelzer ph,person assigned,root causes'},\n",
       "  'score': 1.2107956409454346,\n",
       "  'similarity': 0.45232584209925236,\n",
       "  'adjusted_score': 0.45232584209925236},\n",
       " {'id': 'doc_855_855',\n",
       "  'content': 'Activity\\nLeaders should model \\ncuriosity and openness.\\n',\n",
       "  'metadata': {'chunk_id': 855,\n",
       "   'page_number': 9,\n",
       "   'source': 'test.pdf',\n",
       "   'topics': 'innovation diversity,inclusion dei,zaelzer ph,person assigned,root causes'},\n",
       "  'score': 1.2107956409454346,\n",
       "  'similarity': 0.45232584209925236,\n",
       "  'adjusted_score': 0.45232584209925236},\n",
       " {'id': 'doc_769_769',\n",
       "  'content': 'ortunities for growth within \\nthe team.\\n',\n",
       "  'metadata': {'chunk_id': 769,\n",
       "   'page_number': 8,\n",
       "   'source': 'test.pdf',\n",
       "   'topics': 'innovation diversity,inclusion dei,zaelzer ph,person assigned,root causes'},\n",
       "  'score': 1.2253284454345703,\n",
       "  'similarity': 0.4493718678029644,\n",
       "  'adjusted_score': 0.4493718678029644},\n",
       " {'id': 'doc_848_848',\n",
       "  'content': 'eader.\\nActivity\\nLeaders should model \\ncuriosity and openness.\\n',\n",
       "  'metadata': {'chunk_id': 848,\n",
       "   'page_number': 9,\n",
       "   'source': 'test.pdf',\n",
       "   'topics': 'innovation diversity,inclusion dei,zaelzer ph,person assigned,root causes'},\n",
       "  'score': 1.227555274963379,\n",
       "  'similarity': 0.4489226423422602,\n",
       "  'adjusted_score': 0.4489226423422602},\n",
       " {'id': 'doc_768_768',\n",
       "  'content': 'portunities for growth within \\nthe team.\\n',\n",
       "  'metadata': {'chunk_id': 768,\n",
       "   'page_number': 8,\n",
       "   'source': 'test.pdf',\n",
       "   'topics': 'innovation diversity,inclusion dei,zaelzer ph,person assigned,root causes'},\n",
       "  'score': 1.2285157442092896,\n",
       "  'similarity': 0.4487291609217752,\n",
       "  'adjusted_score': 0.4487291609217752},\n",
       " {'id': 'doc_753_753',\n",
       "  'content': 'torship and \\nopportunities for growth within \\nthe team.\\n',\n",
       "  'metadata': {'chunk_id': 753,\n",
       "   'page_number': 8,\n",
       "   'source': 'test.pdf',\n",
       "   'topics': 'innovation diversity,inclusion dei,zaelzer ph,person assigned,root causes'},\n",
       "  'score': 1.2303510904312134,\n",
       "  'similarity': 0.44835990364488365,\n",
       "  'adjusted_score': 0.44835990364488365},\n",
       " {'id': 'doc_857_857',\n",
       "  'content': 'tivity\\nLeaders should model \\ncuriosity and openness.\\n',\n",
       "  'metadata': {'chunk_id': 857,\n",
       "   'page_number': 9,\n",
       "   'source': 'test.pdf',\n",
       "   'topics': 'innovation diversity,inclusion dei,zaelzer ph,person assigned,root causes'},\n",
       "  'score': 1.231052041053772,\n",
       "  'similarity': 0.44821903819315634,\n",
       "  'adjusted_score': 0.44821903819315634},\n",
       " {'id': 'doc_853_853',\n",
       "  'content': '.\\nActivity\\nLeaders should model \\ncuriosity and openness.\\n',\n",
       "  'metadata': {'chunk_id': 853,\n",
       "   'page_number': 9,\n",
       "   'source': 'test.pdf',\n",
       "   'topics': 'innovation diversity,inclusion dei,zaelzer ph,person assigned,root causes'},\n",
       "  'score': 1.2369023561477661,\n",
       "  'similarity': 0.44704678201605935,\n",
       "  'adjusted_score': 0.44704678201605935},\n",
       " {'id': 'doc_851_851',\n",
       "  'content': 'er.\\nActivity\\nLeaders should model \\ncuriosity and openness.\\n',\n",
       "  'metadata': {'chunk_id': 851,\n",
       "   'page_number': 9,\n",
       "   'source': 'test.pdf',\n",
       "   'topics': 'innovation diversity,inclusion dei,zaelzer ph,person assigned,root causes'},\n",
       "  'score': 1.2414644956588745,\n",
       "  'similarity': 0.4461368903842716,\n",
       "  'adjusted_score': 0.4461368903842716},\n",
       " {'id': 'doc_783_783',\n",
       "  'content': ' growth within \\nthe team.\\n',\n",
       "  'metadata': {'chunk_id': 783,\n",
       "   'page_number': 8,\n",
       "   'source': 'test.pdf',\n",
       "   'topics': 'innovation diversity,inclusion dei,zaelzer ph,person assigned,root causes'},\n",
       "  'score': 1.25173020362854,\n",
       "  'similarity': 0.4441029384375422,\n",
       "  'adjusted_score': 0.4441029384375422},\n",
       " {'id': 'doc_784_784',\n",
       "  'content': 'growth within \\nthe team.\\n',\n",
       "  'metadata': {'chunk_id': 784,\n",
       "   'page_number': 8,\n",
       "   'source': 'test.pdf',\n",
       "   'topics': 'innovation diversity,inclusion dei,zaelzer ph,person assigned,root causes'},\n",
       "  'score': 1.25173020362854,\n",
       "  'similarity': 0.4441029384375422,\n",
       "  'adjusted_score': 0.4441029384375422},\n",
       " {'id': 'doc_750_750',\n",
       "  'content': 'mentorship and \\nopportunities for growth within \\nthe team.\\n',\n",
       "  'metadata': {'chunk_id': 750,\n",
       "   'page_number': 8,\n",
       "   'source': 'test.pdf',\n",
       "   'topics': 'innovation diversity,inclusion dei,zaelzer ph,person assigned,root causes'},\n",
       "  'score': 1.2544697523117065,\n",
       "  'similarity': 0.44356328088882624,\n",
       "  'adjusted_score': 0.44356328088882624},\n",
       " {'id': 'doc_749_749',\n",
       "  'content': ' mentorship and \\nopportunities for growth within \\nthe team.\\n',\n",
       "  'metadata': {'chunk_id': 749,\n",
       "   'page_number': 8,\n",
       "   'source': 'test.pdf',\n",
       "   'topics': 'innovation diversity,inclusion dei,zaelzer ph,person assigned,root causes'},\n",
       "  'score': 1.2544697523117065,\n",
       "  'similarity': 0.44356328088882624,\n",
       "  'adjusted_score': 0.44356328088882624},\n",
       " {'id': 'doc_767_767',\n",
       "  'content': 'pportunities for growth within \\nthe team.\\n',\n",
       "  'metadata': {'chunk_id': 767,\n",
       "   'page_number': 8,\n",
       "   'source': 'test.pdf',\n",
       "   'topics': 'innovation diversity,inclusion dei,zaelzer ph,person assigned,root causes'},\n",
       "  'score': 1.260022759437561,\n",
       "  'similarity': 0.4424734201565582,\n",
       "  'adjusted_score': 0.4424734201565582},\n",
       " {'id': 'doc_771_771',\n",
       "  'content': 'tunities for growth within \\nthe team.\\n',\n",
       "  'metadata': {'chunk_id': 771,\n",
       "   'page_number': 8,\n",
       "   'source': 'test.pdf',\n",
       "   'topics': 'innovation diversity,inclusion dei,zaelzer ph,person assigned,root causes'},\n",
       "  'score': 1.2610639333724976,\n",
       "  'similarity': 0.4422696701496833,\n",
       "  'adjusted_score': 0.4422696701496833},\n",
       " {'id': 'doc_748_748',\n",
       "  'content': 's mentorship and \\nopportunities for growth within \\nthe team.\\n',\n",
       "  'metadata': {'chunk_id': 748,\n",
       "   'page_number': 8,\n",
       "   'source': 'test.pdf',\n",
       "   'topics': 'innovation diversity,inclusion dei,zaelzer ph,person assigned,root causes'},\n",
       "  'score': 1.2636536359786987,\n",
       "  'similarity': 0.4417636974605642,\n",
       "  'adjusted_score': 0.4417636974605642},\n",
       " {'id': 'doc_733_733',\n",
       "  'content': 'Others:\\nProvides mentorship and \\nopportunities for growth within \\nthe team.\\n',\n",
       "  'metadata': {'chunk_id': 733,\n",
       "   'page_number': 8,\n",
       "   'source': 'test.pdf',\n",
       "   'topics': 'innovation diversity,inclusion dei,zaelzer ph,person assigned,root causes'},\n",
       "  'score': 1.2659778594970703,\n",
       "  'similarity': 0.44131057848109256,\n",
       "  'adjusted_score': 0.44131057848109256},\n",
       " {'id': 'doc_732_732',\n",
       "  'content': ' Others:\\nProvides mentorship and \\nopportunities for growth within \\nthe team.\\n',\n",
       "  'metadata': {'chunk_id': 732,\n",
       "   'page_number': 8,\n",
       "   'source': 'test.pdf',\n",
       "   'topics': 'innovation diversity,inclusion dei,zaelzer ph,person assigned,root causes'},\n",
       "  'score': 1.2659778594970703,\n",
       "  'similarity': 0.44131057848109256,\n",
       "  'adjusted_score': 0.44131057848109256},\n",
       " {'id': 'doc_852_852',\n",
       "  'content': 'r.\\nActivity\\nLeaders should model \\ncuriosity and openness.\\n',\n",
       "  'metadata': {'chunk_id': 852,\n",
       "   'page_number': 9,\n",
       "   'source': 'test.pdf',\n",
       "   'topics': 'innovation diversity,inclusion dei,zaelzer ph,person assigned,root causes'},\n",
       "  'score': 1.2667436599731445,\n",
       "  'similarity': 0.441161485375831,\n",
       "  'adjusted_score': 0.441161485375831},\n",
       " {'id': 'doc_772_772',\n",
       "  'content': 'unities for growth within \\nthe team.\\n',\n",
       "  'metadata': {'chunk_id': 772,\n",
       "   'page_number': 8,\n",
       "   'source': 'test.pdf',\n",
       "   'topics': 'innovation diversity,inclusion dei,zaelzer ph,person assigned,root causes'},\n",
       "  'score': 1.2675474882125854,\n",
       "  'similarity': 0.4410050970038378,\n",
       "  'adjusted_score': 0.4410050970038378},\n",
       " {'id': 'doc_744_744',\n",
       "  'content': 'vides mentorship and \\nopportunities for growth within \\nthe team.\\n',\n",
       "  'metadata': {'chunk_id': 744,\n",
       "   'page_number': 8,\n",
       "   'source': 'test.pdf',\n",
       "   'topics': 'innovation diversity,inclusion dei,zaelzer ph,person assigned,root causes'},\n",
       "  'score': 1.2710201740264893,\n",
       "  'similarity': 0.4403307427370903,\n",
       "  'adjusted_score': 0.4403307427370903},\n",
       " {'id': 'doc_754_754',\n",
       "  'content': 'orship and \\nopportunities for growth within \\nthe team.\\n',\n",
       "  'metadata': {'chunk_id': 754,\n",
       "   'page_number': 8,\n",
       "   'source': 'test.pdf',\n",
       "   'topics': 'innovation diversity,inclusion dei,zaelzer ph,person assigned,root causes'},\n",
       "  'score': 1.2718396186828613,\n",
       "  'similarity': 0.4401719169682266,\n",
       "  'adjusted_score': 0.4401719169682266},\n",
       " {'id': 'doc_759_759',\n",
       "  'content': 'p and \\nopportunities for growth within \\nthe team.\\n',\n",
       "  'metadata': {'chunk_id': 759,\n",
       "   'page_number': 8,\n",
       "   'source': 'test.pdf',\n",
       "   'topics': 'innovation diversity,inclusion dei,zaelzer ph,person assigned,root causes'},\n",
       "  'score': 1.2859022617340088,\n",
       "  'similarity': 0.4374640231736914,\n",
       "  'adjusted_score': 0.4374640231736914},\n",
       " {'id': 'doc_775_775',\n",
       "  'content': 'ties for growth within \\nthe team.\\n',\n",
       "  'metadata': {'chunk_id': 775,\n",
       "   'page_number': 8,\n",
       "   'source': 'test.pdf',\n",
       "   'topics': 'innovation diversity,inclusion dei,zaelzer ph,person assigned,root causes'},\n",
       "  'score': 1.2893762588500977,\n",
       "  'similarity': 0.43680019661874087,\n",
       "  'adjusted_score': 0.43680019661874087},\n",
       " {'id': 'doc_719_719',\n",
       "  'content': '.\\n•Developing Others:\\nProvides mentorship and \\nopportunities for growth within \\nthe team.\\n',\n",
       "  'metadata': {'chunk_id': 719,\n",
       "   'page_number': 8,\n",
       "   'source': 'test.pdf',\n",
       "   'topics': 'innovation diversity,inclusion dei,zaelzer ph,person assigned,root causes'},\n",
       "  'score': 1.2928472757339478,\n",
       "  'similarity': 0.4361389485393862,\n",
       "  'adjusted_score': 0.4361389485393862}]"
      ]
     },
     "execution_count": 18,
     "metadata": {},
     "output_type": "execute_result"
    }
   ],
   "source": [
    "retrieval_system.retrieve(\n",
    "                'characteristics of a leader', \n",
    "                100\n",
    "            )"
   ]
  },
  {
   "cell_type": "code",
   "execution_count": 21,
   "metadata": {
    "scrolled": true
   },
   "outputs": [
    {
     "data": {
      "text/plain": [
       "[{'id': 'doc_5486_3358',\n",
       "  'content': 'Support Vector Machine\\nMethodology, Results and Analysis\\n‹#›\\n',\n",
       "  'metadata': {'chunk_id': 3358,\n",
       "   'page_number': 37,\n",
       "   'source': 'test.pptx',\n",
       "   'topics': 'graduation retention,prediction comparison,hydrant building,remote controls,68 1146'},\n",
       "  'score': 0.7386980652809143,\n",
       "  'similarity': 0.5751429877150258,\n",
       "  'adjusted_score': 0.5751429877150258,\n",
       "  'quality_score': 0.8627144815725387},\n",
       " {'id': 'doc_5574_3446',\n",
       "  'content': ' of paper ]\\nSupport Vector Machine\\nMethodology - Technical Implementation\\n',\n",
       "  'metadata': {'chunk_id': 3446,\n",
       "   'page_number': 38,\n",
       "   'source': 'test.pptx',\n",
       "   'topics': 'graduation retention,prediction comparison,hydrant building,remote controls,68 1146'},\n",
       "  'score': 0.774863064289093,\n",
       "  'similarity': 0.5634237480740757,\n",
       "  'adjusted_score': 0.5634237480740757,\n",
       "  'quality_score': 0.8451356221111135},\n",
       " {'id': 'doc_5569_3441',\n",
       "  'content': 'piece of paper ]\\nSupport Vector Machine\\nMethodology - Technical Implementation\\n',\n",
       "  'metadata': {'chunk_id': 3441,\n",
       "   'page_number': 38,\n",
       "   'source': 'test.pptx',\n",
       "   'topics': 'graduation retention,prediction comparison,hydrant building,remote controls,68 1146'},\n",
       "  'score': 0.7837234139442444,\n",
       "  'similarity': 0.5606250342303675,\n",
       "  'adjusted_score': 0.5606250342303675,\n",
       "  'quality_score': 0.8409375513455513},\n",
       " {'id': 'doc_5568_3440',\n",
       "  'content': ' piece of paper ]\\nSupport Vector Machine\\nMethodology - Technical Implementation\\n',\n",
       "  'metadata': {'chunk_id': 3440,\n",
       "   'page_number': 38,\n",
       "   'source': 'test.pptx',\n",
       "   'topics': 'graduation retention,prediction comparison,hydrant building,remote controls,68 1146'},\n",
       "  'score': 0.7837234139442444,\n",
       "  'similarity': 0.5606250342303675,\n",
       "  'adjusted_score': 0.5606250342303675,\n",
       "  'quality_score': 0.8409375513455513},\n",
       " {'id': 'doc_5586_3458',\n",
       "  'content': 'Support Vector Machine\\nMethodology - Technical Implementation\\n',\n",
       "  'metadata': {'chunk_id': 3458,\n",
       "   'page_number': 38,\n",
       "   'source': 'test.pptx',\n",
       "   'topics': 'graduation retention,prediction comparison,hydrant building,remote controls,68 1146'},\n",
       "  'score': 0.7849830389022827,\n",
       "  'similarity': 0.5602294129444353,\n",
       "  'adjusted_score': 0.5602294129444353,\n",
       "  'quality_score': 0.840344119416653},\n",
       " {'id': 'doc_5585_3457',\n",
       "  'content': '\\nSupport Vector Machine\\nMethodology - Technical Implementation\\n',\n",
       "  'metadata': {'chunk_id': 3457,\n",
       "   'page_number': 38,\n",
       "   'source': 'test.pptx',\n",
       "   'topics': 'graduation retention,prediction comparison,hydrant building,remote controls,68 1146'},\n",
       "  'score': 0.7849830389022827,\n",
       "  'similarity': 0.5602294129444353,\n",
       "  'adjusted_score': 0.5602294129444353,\n",
       "  'quality_score': 0.840344119416653},\n",
       " {'id': 'doc_5567_3439',\n",
       "  'content': 'a piece of paper ]\\nSupport Vector Machine\\nMethodology - Technical Implementation\\n',\n",
       "  'metadata': {'chunk_id': 3439,\n",
       "   'page_number': 38,\n",
       "   'source': 'test.pptx',\n",
       "   'topics': 'graduation retention,prediction comparison,hydrant building,remote controls,68 1146'},\n",
       "  'score': 0.8005518913269043,\n",
       "  'similarity': 0.5553852709365998,\n",
       "  'adjusted_score': 0.5553852709365998,\n",
       "  'quality_score': 0.8330779064048998},\n",
       " {'id': 'doc_5566_3438',\n",
       "  'content': ' a piece of paper ]\\nSupport Vector Machine\\nMethodology - Technical Implementation\\n',\n",
       "  'metadata': {'chunk_id': 3438,\n",
       "   'page_number': 38,\n",
       "   'source': 'test.pptx',\n",
       "   'topics': 'graduation retention,prediction comparison,hydrant building,remote controls,68 1146'},\n",
       "  'score': 0.8005518913269043,\n",
       "  'similarity': 0.5553852709365998,\n",
       "  'adjusted_score': 0.5553852709365998,\n",
       "  'quality_score': 0.8330779064048998},\n",
       " {'id': 'doc_5565_3437',\n",
       "  'content': 'h a piece of paper ]\\nSupport Vector Machine\\nMethodology - Technical Implementation\\n',\n",
       "  'metadata': {'chunk_id': 3437,\n",
       "   'page_number': 38,\n",
       "   'source': 'test.pptx',\n",
       "   'topics': 'graduation retention,prediction comparison,hydrant building,remote controls,68 1146'},\n",
       "  'score': 0.8005590438842773,\n",
       "  'similarity': 0.5553830647190209,\n",
       "  'adjusted_score': 0.5553830647190209,\n",
       "  'quality_score': 0.8330745970785314},\n",
       " {'id': 'doc_5584_3456',\n",
       "  'content': ']\\nSupport Vector Machine\\nMethodology - Technical Implementation\\n',\n",
       "  'metadata': {'chunk_id': 3456,\n",
       "   'page_number': 38,\n",
       "   'source': 'test.pptx',\n",
       "   'topics': 'graduation retention,prediction comparison,hydrant building,remote controls,68 1146'},\n",
       "  'score': 0.8009868264198303,\n",
       "  'similarity': 0.5552511463883905,\n",
       "  'adjusted_score': 0.5552511463883905,\n",
       "  'quality_score': 0.8328767195825857},\n",
       " {'id': 'doc_5583_3455',\n",
       "  'content': ' ]\\nSupport Vector Machine\\nMethodology - Technical Implementation\\n',\n",
       "  'metadata': {'chunk_id': 3455,\n",
       "   'page_number': 38,\n",
       "   'source': 'test.pptx',\n",
       "   'topics': 'graduation retention,prediction comparison,hydrant building,remote controls,68 1146'},\n",
       "  'score': 0.8009868264198303,\n",
       "  'similarity': 0.5552511463883905,\n",
       "  'adjusted_score': 0.5552511463883905,\n",
       "  'quality_score': 0.8328767195825857},\n",
       " {'id': 'doc_5494_3366',\n",
       "  'content': 'Vector Machine\\nMethodology, Results and Analysis\\n‹#›\\n',\n",
       "  'metadata': {'chunk_id': 3366,\n",
       "   'page_number': 37,\n",
       "   'source': 'test.pptx',\n",
       "   'topics': 'graduation retention,prediction comparison,hydrant building,remote controls,68 1146'},\n",
       "  'score': 0.8040079474449158,\n",
       "  'similarity': 0.554321283016706,\n",
       "  'adjusted_score': 0.554321283016706,\n",
       "  'quality_score': 0.8314819245250591},\n",
       " {'id': 'doc_5493_3365',\n",
       "  'content': ' Vector Machine\\nMethodology, Results and Analysis\\n‹#›\\n',\n",
       "  'metadata': {'chunk_id': 3365,\n",
       "   'page_number': 37,\n",
       "   'source': 'test.pptx',\n",
       "   'topics': 'graduation retention,prediction comparison,hydrant building,remote controls,68 1146'},\n",
       "  'score': 0.8040079474449158,\n",
       "  'similarity': 0.554321283016706,\n",
       "  'adjusted_score': 0.554321283016706,\n",
       "  'quality_score': 0.8314819245250591},\n",
       " {'id': 'doc_5578_3450',\n",
       "  'content': 'paper ]\\nSupport Vector Machine\\nMethodology - Technical Implementation\\n',\n",
       "  'metadata': {'chunk_id': 3450,\n",
       "   'page_number': 38,\n",
       "   'source': 'test.pptx',\n",
       "   'topics': 'graduation retention,prediction comparison,hydrant building,remote controls,68 1146'},\n",
       "  'score': 0.8099523186683655,\n",
       "  'similarity': 0.5525007425254876,\n",
       "  'adjusted_score': 0.5525007425254876,\n",
       "  'quality_score': 0.8287511137882315},\n",
       " {'id': 'doc_5577_3449',\n",
       "  'content': ' paper ]\\nSupport Vector Machine\\nMethodology - Technical Implementation\\n',\n",
       "  'metadata': {'chunk_id': 3449,\n",
       "   'page_number': 38,\n",
       "   'source': 'test.pptx',\n",
       "   'topics': 'graduation retention,prediction comparison,hydrant building,remote controls,68 1146'},\n",
       "  'score': 0.8099523186683655,\n",
       "  'similarity': 0.5525007425254876,\n",
       "  'adjusted_score': 0.5525007425254876,\n",
       "  'quality_score': 0.8287511137882315},\n",
       " {'id': 'doc_5558_3430',\n",
       "  'content': ' through a piece of paper ]\\nSupport Vector Machine\\nMethodology - Technical Implementation\\n',\n",
       "  'metadata': {'chunk_id': 3430,\n",
       "   'page_number': 38,\n",
       "   'source': 'test.pptx',\n",
       "   'topics': 'graduation retention,prediction comparison,hydrant building,remote controls,68 1146'},\n",
       "  'score': 0.8103570342063904,\n",
       "  'similarity': 0.5523772278645421,\n",
       "  'adjusted_score': 0.5523772278645421,\n",
       "  'quality_score': 0.8285658417968131},\n",
       " {'id': 'doc_5559_3431',\n",
       "  'content': 'through a piece of paper ]\\nSupport Vector Machine\\nMethodology - Technical Implementation\\n',\n",
       "  'metadata': {'chunk_id': 3431,\n",
       "   'page_number': 38,\n",
       "   'source': 'test.pptx',\n",
       "   'topics': 'graduation retention,prediction comparison,hydrant building,remote controls,68 1146'},\n",
       "  'score': 0.8103570342063904,\n",
       "  'similarity': 0.5523772278645421,\n",
       "  'adjusted_score': 0.5523772278645421,\n",
       "  'quality_score': 0.8285658417968131},\n",
       " {'id': 'doc_5562_3434',\n",
       "  'content': 'ough a piece of paper ]\\nSupport Vector Machine\\nMethodology - Technical Implementation\\n',\n",
       "  'metadata': {'chunk_id': 3434,\n",
       "   'page_number': 38,\n",
       "   'source': 'test.pptx',\n",
       "   'topics': 'graduation retention,prediction comparison,hydrant building,remote controls,68 1146'},\n",
       "  'score': 0.8231785297393799,\n",
       "  'similarity': 0.5484926372750496,\n",
       "  'adjusted_score': 0.5484926372750496,\n",
       "  'quality_score': 0.8227389559125744},\n",
       " {'id': 'doc_5576_3448',\n",
       "  'content': 'f paper ]\\nSupport Vector Machine\\nMethodology - Technical Implementation\\n',\n",
       "  'metadata': {'chunk_id': 3448,\n",
       "   'page_number': 38,\n",
       "   'source': 'test.pptx',\n",
       "   'topics': 'graduation retention,prediction comparison,hydrant building,remote controls,68 1146'},\n",
       "  'score': 0.8640321493148804,\n",
       "  'similarity': 0.5364714339114521,\n",
       "  'adjusted_score': 0.5364714339114521,\n",
       "  'quality_score': 0.8047071508671781}]"
      ]
     },
     "execution_count": 21,
     "metadata": {},
     "output_type": "execute_result"
    }
   ],
   "source": [
    "retrieval_system.retrieve_for_question_generation(\n",
    "                ['characteristics of a leader','details about support vector machine'], \n",
    "                100\n",
    "            )"
   ]
  },
  {
   "cell_type": "markdown",
   "metadata": {},
   "source": [
    "## Question Generation\n",
    "---"
   ]
  },
  {
   "cell_type": "markdown",
   "metadata": {},
   "source": [
    "#### MC"
   ]
  },
  {
   "cell_type": "code",
   "execution_count": 22,
   "metadata": {},
   "outputs": [
    {
     "name": "stdout",
     "output_type": "stream",
     "text": [
      "Generated Question: What characteristic does a good leader demonstrate by articulating goals and ideas clearly?\n",
      "Options: ['Empowerment: Provides autonomy and trust to team members to make decisions and own their work.', 'Clear Communication: Articulates goals and ideas clearly, ensuring everyone understands the direction.', \"Active Listening: Pays attention to team members' concerns and feedback.\", 'Accountability: Takes responsibility for both successes and failures.']\n",
      "Answer: B\n",
      "Explanation: A good leader demonstrates clear communication by articulating their goals and ideas clearly, which is essential for ensuring everyone understands the direction. Option A is incorrect because empowerment is a separate characteristic that involves providing autonomy and trust to team members. Option C is also incorrect because active listening is about paying attention to team members' concerns and feedback, not articulating goals and ideas. Option D is incorrect because accountability is about taking responsibility for both successes and failures, not communicating clearly.\n"
     ]
    }
   ],
   "source": [
    "# Test the question generation\n",
    "easy_mc_question = question_generator.generate_question(['characteristics of a leader','diversity and inclusion'],\n",
    "                                                   question_type=\"multiple-choice\", \n",
    "                                                     difficulty=\"easy\")\n",
    "\n",
    "# Display the generated question\n",
    "print(\"Generated Question:\", easy_mc_question.get(\"question\"))\n",
    "print(\"Options:\", easy_mc_question.get(\"options\"))\n",
    "print(\"Answer:\", easy_mc_question.get(\"answer\"))\n",
    "print(\"Explanation:\", easy_mc_question.get(\"explanation\"))"
   ]
  },
  {
   "cell_type": "code",
   "execution_count": 23,
   "metadata": {},
   "outputs": [
    {
     "name": "stdout",
     "output_type": "stream",
     "text": [
      "Generated Question: Which characteristic of a good leader does NOT contribute to effective communication?\n",
      "Options: ['Articulates goals and ideas clearly, ensuring everyone understands the direction.', 'Provides autonomy and trust to team members to make decisions and own their work.', \"Pays attention to team members' concerns and feedback.\", 'Acts ethically and consistently with their values, setting a moral example.']\n",
      "Answer: B\n",
      "Explanation: Providing autonomy and trust (Option B) is an aspect of empowerment, not communication. Effective communication involves articulating goals clearly (Option A), actively listening to team members' concerns (Option C), and maintaining integrity (Option D).\n"
     ]
    }
   ],
   "source": [
    "medium_mc_question = question_generator.generate_question(['characteristics of a leader','diversity and inclusion'],\n",
    "                                                   question_type=\"multiple-choice\", \n",
    "                                                     difficulty=\"medium\")\n",
    "\n",
    "# Display the generated question\n",
    "print(\"Generated Question:\", medium_mc_question.get(\"question\"))\n",
    "print(\"Options:\", medium_mc_question.get(\"options\"))\n",
    "print(\"Answer:\", medium_mc_question.get(\"answer\"))\n",
    "print(\"Explanation:\", medium_mc_question.get(\"explanation\"))"
   ]
  },
  {
   "cell_type": "code",
   "execution_count": 24,
   "metadata": {},
   "outputs": [
    {
     "name": "stdout",
     "output_type": "stream",
     "text": [
      "Generated Question: In a team where members have diverse backgrounds and experiences, which leadership approach would be most effective in promoting collaboration and innovation?\n",
      "Options: ['A. Empowering individuals to make decisions based on their own expertise and judgment.', \"B. Encouraging open communication by actively listening to each member's concerns and ideas.\", 'C. Fostering a competitive environment where team members are pitted against each other to achieve individual goals.', 'D. Assigning tasks based solely on seniority, regardless of individual strengths or interests.']\n",
      "Answer: A\n",
      "Explanation: Empowering individuals allows for autonomy and trust, which can lead to increased motivation and creativity in a diverse team. This approach also acknowledges the unique experiences and perspectives each member brings to the table. Options B, C, and D are incorrect because while they may promote some level of collaboration or innovation, they do not directly address the needs of a diverse team. Option B focuses on communication but does not necessarily empower individuals. Option C creates a competitive environment that can stifle collaboration and innovation. Option D ignores individual strengths and interests, potentially leading to underutilization of team members.\n"
     ]
    }
   ],
   "source": [
    "hard_mc_question = question_generator.generate_question(['characteristics of a leader','diversity and inclusion'],\n",
    "                                                   question_type=\"multiple-choice\", \n",
    "                                                     difficulty=\"hard\")\n",
    "\n",
    "# Display the generated question\n",
    "print(\"Generated Question:\", hard_mc_question.get(\"question\"))\n",
    "print(\"Options:\", hard_mc_question.get(\"options\"))\n",
    "print(\"Answer:\", hard_mc_question.get(\"answer\"))\n",
    "print(\"Explanation:\", hard_mc_question.get(\"explanation\"))"
   ]
  },
  {
   "cell_type": "markdown",
   "metadata": {},
   "source": [
    "#### Free-text"
   ]
  },
  {
   "cell_type": "code",
   "execution_count": 28,
   "metadata": {},
   "outputs": [
    {
     "name": "stderr",
     "output_type": "stream",
     "text": [
      "Question validation failed on attempt 1: Free-text question needs at least 2 key points\n"
     ]
    },
    {
     "name": "stdout",
     "output_type": "stream",
     "text": [
      "Generated Question: Explain how a diverse team can foster innovation and describe an example of how equity, diversity, and inclusion (EDI) principles can be applied in a real-world scenario to address a specific challenge.\n",
      "Options: None\n",
      "Answer: A diverse team can foster innovation by bringing together individuals with different backgrounds, experiences, and expertise. This diversity enables the team to approach problems from multiple angles, leading to more creative solutions. For example, consider a company developing a new product for an aging population. A team consisting of members from different age groups, ethnicities, and abilities would be better equipped to understand the needs and challenges faced by this demographic. By applying EDI principles, the company can ensure that the product is not only inclusive but also accessible to people with disabilities. This might involve consulting with accessibility experts, conducting user testing with individuals from diverse backgrounds, and incorporating feedback to refine the design. Through this process, the team would be able to create a product that meets the needs of its target audience, ultimately driving business success while promoting social responsibility.\n",
      "Key Points: ['Diversity fosters innovation by bringing together different perspectives', 'EDI principles ensure that products or services are inclusive and accessible', 'Real-world scenario: developing a product for an aging population', 'Importance of consulting with accessibility experts and conducting user testing']\n"
     ]
    }
   ],
   "source": [
    "# Test the question generation\n",
    "easy_free_text_question = question_generator.generate_question(['characteristics of a leader','diversity and inclusion','psychological safety'],\n",
    "                                                    question_type=\"free-text\", \n",
    "                                                     difficulty=\"easy\")\n",
    "\n",
    "# Display the generated question\n",
    "print(\"Generated Question:\", easy_free_text_question.get(\"question\"))\n",
    "print(\"Options:\", easy_free_text_question.get(\"options\"))\n",
    "print(\"Answer:\", easy_free_text_question.get(\"answer\"))\n",
    "print(\"Key Points:\", easy_free_text_question.get(\"key_points\"))"
   ]
  },
  {
   "cell_type": "code",
   "execution_count": 29,
   "metadata": {},
   "outputs": [
    {
     "name": "stdout",
     "output_type": "stream",
     "text": [
      "Generated Question: An organization has implemented various diversity and inclusion initiatives, but despite these efforts, a team of engineers from different backgrounds is struggling to work together effectively. Analyze the potential reasons for this challenge, considering both the benefits and limitations of diverse teams as described in the context. Suggest strategies to improve collaboration and foster an inclusive environment within the team.\n",
      "Options: None\n",
      "Answer: The potential reasons for the challenge faced by the team of engineers from different backgrounds can be attributed to several factors. Firstly, the concept of diversity is often confused with inclusion, leading to a lack of understanding about how to work collaboratively in a diverse setting. Additionally, the idea that diverse teams offer a broader range of perspectives may lead to an expectation that every member will contribute equally, which can create pressure and anxiety among team members.To address these challenges, it's essential to recognize both the benefits and limitations of diverse teams. On one hand, diverse teams bring unique ideas and approaches, fostering innovation and creativity. However, this also means that individual contributions may vary, leading to potential conflicts or misunderstandings.Strategies to improve collaboration within the team include:1.  **Establishing clear communication channels**: Encourage open and respectful dialogue among team members, ensuring that everyone feels heard and valued.2.  **Fostering empathy and understanding**: Recognize that individual backgrounds and experiences shape perspectives and approaches, promoting a culture of empathy and inclusivity.3.  **Setting realistic expectations**: Acknowledge the value of diverse contributions but also recognize that not every member may feel comfortable sharing their ideas immediately.4.  **Providing training and resources**: Offer workshops or training sessions to help team members navigate cultural differences and develop effective collaboration skills.By acknowledging both the benefits and limitations of diverse teams, we can work towards creating an inclusive environment where everyone feels valued and respected. This requires a willingness to listen, learn from each other's strengths and weaknesses, and adapt our approaches accordingly.\n",
      "Key Points: ['Diverse teams bring unique ideas and approaches but also create potential conflicts or misunderstandings', 'Clear communication channels are essential for open and respectful dialogue among team members', 'Empathy and understanding are crucial in recognizing the value of individual backgrounds and experiences', 'Setting realistic expectations can help alleviate pressure and anxiety among team members']\n"
     ]
    }
   ],
   "source": [
    "# Test the question generation\n",
    "medium_free_text_question = question_generator.generate_question(['characteristics of a leader','diversity and inclusion','psychological safety'],\n",
    "                                                    question_type=\"free-text\", \n",
    "                                                     difficulty=\"medium\")\n",
    "\n",
    "# Display the generated question\n",
    "print(\"Generated Question:\", medium_free_text_question.get(\"question\"))\n",
    "print(\"Options:\", medium_free_text_question.get(\"options\"))\n",
    "print(\"Answer:\", medium_free_text_question.get(\"answer\"))\n",
    "print(\"Key Points:\", medium_free_text_question.get(\"key_points\"))"
   ]
  },
  {
   "cell_type": "code",
   "execution_count": 30,
   "metadata": {},
   "outputs": [
    {
     "name": "stderr",
     "output_type": "stream",
     "text": [
      "Question validation failed on attempt 1: Free-text question needs at least 2 key points\n"
     ]
    },
    {
     "name": "stdout",
     "output_type": "stream",
     "text": [
      "Generated Question: While fostering psychological safety is crucial for innovation, some teams may struggle to balance this approach with the need for constructive feedback and accountability. What are potential risks and trade-offs associated with promoting open communication and idea sharing in a team, and how can leaders mitigate these risks while still encouraging creativity and innovation?\n",
      "Options: None\n",
      "Answer: Potential risks and trade-offs associated with promoting open communication and idea sharing include:* Overemphasis on avoiding criticism or conflict may lead to lack of accountability and ineffective decision-making.* Fear of ridicule or punishment may prevent team members from speaking up, leading to missed opportunities for growth and improvement.* Insufficient feedback mechanisms can result in unproductive ideas being pursued, wasting resources and time.To mitigate these risks, leaders can implement a balanced approach by:* Encouraging open communication while also establishing clear expectations for accountability and constructive feedback.* Fostering a culture of psychological safety through regular check-ins, anonymous feedback channels, and celebratory recognition of successes.* Implementing mechanisms for evaluating and refining ideas, such as prototyping or pilot testing, to ensure that the best ideas are pursued.By acknowledging and addressing these trade-offs, leaders can create an environment where team members feel empowered to share their ideas without fear of reprisal, while also promoting accountability and effective decision-making.\n",
      "Key Points: ['Potential risks and trade-offs associated with open communication', 'Importance of balance between psychological safety and accountability', 'Strategies for mitigating these risks (e.g. clear expectations, feedback mechanisms)', 'Benefits of a balanced approach to fostering creativity and innovation']\n"
     ]
    }
   ],
   "source": [
    "# Test the question generation\n",
    "hard_free_text_question = question_generator.generate_question(['characteristics of a leader','diversity and inclusion','psychological safety'],\n",
    "                                                    question_type=\"free-text\", \n",
    "                                                     difficulty=\"hard\")\n",
    "\n",
    "# Display the generated question\n",
    "print(\"Generated Question:\", hard_free_text_question.get(\"question\"))\n",
    "print(\"Options:\", hard_free_text_question.get(\"options\"))\n",
    "print(\"Answer:\", hard_free_text_question.get(\"answer\"))\n",
    "print(\"Key Points:\", hard_free_text_question.get(\"key_points\"))"
   ]
  },
  {
   "cell_type": "markdown",
   "metadata": {},
   "source": [
    "#### Knowledge Check"
   ]
  },
  {
   "cell_type": "code",
   "execution_count": 31,
   "metadata": {},
   "outputs": [
    {
     "data": {
      "text/plain": [
       "[{'question': 'What is the primary goal of Equity in the context of EDI?',\n",
       "  'options': ['To provide equal opportunities for all individuals without considering their differences.',\n",
       "   'To recognize and appreciate the unique characteristics and experiences of each individual.',\n",
       "   'To create a fair environment where everyone has access to resources, opportunities, or benefits',\n",
       "   'To actively promote diversity in the workplace'],\n",
       "  'answer': 'C',\n",
       "  'explanation': 'Equity is about creating a fair environment where everyone has equal access to resources, opportunities, or benefits. Option A is incorrect because it implies that equality is the same as equity, which is not necessarily true. Option B describes Diversity, not Equity. Option D is incorrect because promoting diversity is more related to Inclusion than Equity.',\n",
       "  'type': 'multiple-choice',\n",
       "  'metadata': {'difficulty': 'easy', 'topic': 'inclusion dei'},\n",
       "  'document_id': 'test.pdf',\n",
       "  'topic': 'inclusion dei',\n",
       "  'difficulty': 'easy'},\n",
       " {'question': 'A group of students has been assigned a leader based on their participation in previous classes. The leader should model curiosity and openness, but one student expresses that they feel uncomfortable sharing their ideas due to their cultural background. What should the leader do?',\n",
       "  'options': [\"Ignore the student's concerns and continue leading as usual\",\n",
       "   'Address the issue directly by asking the student about their concerns and provide a safe space for them to share their ideas',\n",
       "   'Ask other students in the group to persuade the student to participate more actively',\n",
       "   'Tell the student that they are not obligated to share their ideas if they feel uncomfortable'],\n",
       "  'answer': 'B',\n",
       "  'explanation': \"The leader should address the issue directly by asking the student about their concerns and providing a safe space for them to share their ideas. This is because the leader has a responsibility to create an inclusive environment where all students feel valued and respected. Ignoring the student's concerns (Option A) would be dismissive of their feelings, while asking other students to persuade the student (Option C) could put pressure on the student to participate in a way that makes them uncomfortable. Telling the student that they are not obligated to share their ideas (Option D) might make the student feel even more isolated and unheard.\",\n",
       "  'type': 'multiple-choice',\n",
       "  'metadata': {'difficulty': 'medium', 'topic': 'person assigned'},\n",
       "  'document_id': 'test.pdf',\n",
       "  'topic': 'person assigned',\n",
       "  'difficulty': 'medium'},\n",
       " {'question': \"Cristian Zaelzer Ph.D.'s work focuses on the intersection of innovation and education. Which statement best describes his research approach?\",\n",
       "  'options': ['He emphasizes the importance of technological advancements in driving educational reform.',\n",
       "   'He advocates for a holistic approach that combines pedagogical methods with innovative technologies to enhance student learning outcomes.',\n",
       "   'He prioritizes the development of new educational tools over the analysis of existing instructional practices.',\n",
       "   'He ignores the role of context and cultural factors in shaping innovation and education.'],\n",
       "  'answer': 'B',\n",
       "  'explanation': \"Cristian Zaelzer Ph.D.'s work is centered on integrating innovative technologies with proven pedagogical methods to create a more effective educational experience. Option B accurately reflects this approach, which considers both the technological and pedagogical aspects of education. Options A, C, and D misrepresent his research focus or ignore crucial factors in innovation and education.\",\n",
       "  'type': 'multiple-choice',\n",
       "  'metadata': {'difficulty': 'medium', 'topic': 'zaelzer ph'},\n",
       "  'document_id': 'test.pdf',\n",
       "  'topic': 'zaelzer ph',\n",
       "  'difficulty': 'medium'},\n",
       " {'question': 'Analyze how the structured ideation process, such as SCAMPER, can be used to channel creativity into actionable outcomes in a diverse team setting. Provide specific examples of how this process can help avoid groupthink and foster inclusive solutions.',\n",
       "  'answer': \"The structured ideation process, such as SCAMPER, is a valuable tool for harnessing the collective creative potential of a diverse team. By using techniques like Substitute, Combine, Adapt, Modify, Put to other uses, Eliminate, and Reverse, teams can systematically generate innovative ideas that are grounded in the unique perspectives and experiences of each member.One way this process can help avoid groupthink is by encouraging team members to challenge assumptions and consider alternative viewpoints. For instance, when using the SCAMPER model, a team might be asked to 'Substitute' one element with another. This could prompt a member from a different cultural background to suggest an unconventional solution that would not have been considered otherwise.Similarly, this process can foster inclusive solutions by ensuring that all voices are heard and valued. For example, when applying the SCAMPER principle of 'Combine', a team might be asked to integrate disparate ideas or elements into a single, cohesive concept. This could lead to innovative solutions that reflect the diverse perspectives and experiences of the team members.To illustrate this further, let's consider an example from the context: A team tasked with designing a device to capture color from real life to reproduce it digitally might use SCAMPER to generate innovative ideas. By applying the 'Substitute' principle, they might substitute traditional materials like glass or metal with more sustainable alternatives, such as recycled plastic or bioplastics. This would not only reduce environmental impact but also create a product that better reflects the values and priorities of diverse stakeholders.In this way, the structured ideation process can help teams tap into their collective creative potential, generate innovative ideas that are grounded in inclusive principles, and develop solutions that reflect the unique perspectives and experiences of each member.\",\n",
       "  'key_points': ['Structured ideation processes like SCAMPER can channel creativity into actionable outcomes',\n",
       "   'Diverse teams benefit from using SCAMPER to avoid groupthink and foster inclusive solutions',\n",
       "   \"SCAMPER's principles, such as Substitute and Combine, encourage team members to challenge assumptions and integrate disparate ideas\",\n",
       "   'Inclusive solutions are generated by valuing all voices and perspectives within the team'],\n",
       "  'grading_criteria': ['Demonstrates understanding of SCAMPER and its application in diverse teams',\n",
       "   'Provides specific examples of how SCAMPER can help avoid groupthink and foster inclusive solutions',\n",
       "   'Analyzes the impact of structured ideation on creative output and decision-making',\n",
       "   'Clearly articulates the benefits of using SCAMPER in a team setting'],\n",
       "  'type': 'free-text',\n",
       "  'metadata': {'difficulty': 'hard', 'topic': 'innovation diversity'},\n",
       "  'document_id': 'test.pdf',\n",
       "  'topic': 'innovation diversity',\n",
       "  'difficulty': 'hard'},\n",
       " {'question': 'Analyze the limitations of the 5 Whys method in identifying root causes and suggest an alternative approach to overcome these limitations, considering the potential impact on organizational decision-making.',\n",
       "  'answer': \"The 5 Whys method is a powerful tool for identifying root causes, but it has several limitations. Firstly, it can be time-consuming and may not always lead to the most accurate or relevant cause. Additionally, it relies heavily on the interviewer's skill and experience, which can introduce bias into the process.An alternative approach could be the use of fishbone diagrams (Ishikawa diagrams), also known as cause-and-effect diagrams. This method involves breaking down a problem into its constituent parts and identifying potential causes for each component. By doing so, it allows for a more comprehensive analysis of the root causes and can help to identify patterns or relationships that may not be apparent through the 5 Whys method.Fishbone diagrams also offer several advantages over the 5 Whys method, including:* They provide a visual representation of the problem, making it easier to understand and communicate with stakeholders.* They allow for the consideration of multiple factors and their interactions, rather than just focusing on individual causes.* They can help to identify potential solutions or areas for improvement.Overall, while the 5 Whys method is a useful tool for identifying root causes, it has its limitations. Fishbone diagrams offer a more comprehensive and structured approach that can provide valuable insights into complex problems.\",\n",
       "  'key_points': ['The 5 Whys method has several limitations, including time-consuming and biased results',\n",
       "   'Fishbone diagrams (Ishikawa diagrams) offer an alternative approach to identifying root causes',\n",
       "   'They provide a visual representation of the problem and allow for consideration of multiple factors',\n",
       "   'They can help identify potential solutions or areas for improvement'],\n",
       "  'grading_criteria': ['Clear understanding of the limitations of the 5 Whys method',\n",
       "   'Effective analysis of the advantages and disadvantages of fishbone diagrams',\n",
       "   'Suggestion of an alternative approach that addresses the limitations of the 5 Whys method',\n",
       "   'Clear and concise communication of ideas and concepts'],\n",
       "  'type': 'free-text',\n",
       "  'metadata': {'difficulty': 'hard', 'topic': 'root causes'},\n",
       "  'document_id': 'test.pdf',\n",
       "  'topic': 'root causes',\n",
       "  'difficulty': 'hard'}]"
      ]
     },
     "execution_count": 31,
     "metadata": {},
     "output_type": "execute_result"
    }
   ],
   "source": [
    "question_generator.generate_knowledge_check('test.pdf',5)"
   ]
  },
  {
   "cell_type": "markdown",
   "metadata": {},
   "source": [
    "## Answer Evaluation\n",
    "---"
   ]
  },
  {
   "cell_type": "markdown",
   "metadata": {},
   "source": [
    "#### Multiple Choice"
   ]
  },
  {
   "cell_type": "code",
   "execution_count": 43,
   "metadata": {},
   "outputs": [
    {
     "data": {
      "text/plain": [
       "{'question': 'What characteristic does a good leader demonstrate by articulating goals and ideas clearly?',\n",
       " 'options': ['Empowerment: Provides autonomy and trust to team members to make decisions and own their work.',\n",
       "  'Clear Communication: Articulates goals and ideas clearly, ensuring everyone understands the direction.',\n",
       "  \"Active Listening: Pays attention to team members' concerns and feedback.\",\n",
       "  'Accountability: Takes responsibility for both successes and failures.'],\n",
       " 'answer': 'B',\n",
       " 'explanation': \"A good leader demonstrates clear communication by articulating their goals and ideas clearly, which is essential for ensuring everyone understands the direction. Option A is incorrect because empowerment is a separate characteristic that involves providing autonomy and trust to team members. Option C is also incorrect because active listening is about paying attention to team members' concerns and feedback, not articulating goals and ideas. Option D is incorrect because accountability is about taking responsibility for both successes and failures, not communicating clearly.\",\n",
       " 'type': 'multiple-choice',\n",
       " 'metadata': {'difficulty': 'easy', 'topic': 'characteristics of a leader'}}"
      ]
     },
     "execution_count": 43,
     "metadata": {},
     "output_type": "execute_result"
    }
   ],
   "source": [
    "easy_mc_question"
   ]
  },
  {
   "cell_type": "code",
   "execution_count": 32,
   "metadata": {},
   "outputs": [
    {
     "name": "stdout",
     "output_type": "stream",
     "text": [
      "True\n",
      "Correct! Clear Communication: Articulates goals and ideas clearly, ensuring everyone understands the direction. is the right answer.\n"
     ]
    }
   ],
   "source": [
    "mc_correct_evaluation = answer_evaluator.evaluate_answer(easy_mc_question, 'B')\n",
    "print(mc_correct_evaluation['is_correct'])\n",
    "print(mc_correct_evaluation['feedback'])"
   ]
  },
  {
   "cell_type": "code",
   "execution_count": 45,
   "metadata": {},
   "outputs": [
    {
     "name": "stdout",
     "output_type": "stream",
     "text": [
      "False\n",
      "That's not quite right. Explanation: Clear Communication: Articulates goals and ideas clearly, ensuring everyone understands the direction.. A good leader demonstrates clear communication by articulating their goals and ideas clearly, which is essential for ensuring everyone understands the direction. Option A is incorrect because empowerment is a separate characteristic that involves providing autonomy and trust to team members. Option C is also incorrect because active listening is about paying attention to team members' concerns and feedback, not articulating goals and ideas. Option D is incorrect because accountability is about taking responsibility for both successes and failures, not communicating clearly.\n"
     ]
    }
   ],
   "source": [
    "mc_correct_evaluation = answer_evaluator.evaluate_answer(easy_mc_question, 'Clear Communication')\n",
    "print(mc_correct_evaluation['is_correct'])\n",
    "print(mc_correct_evaluation['feedback'])"
   ]
  },
  {
   "cell_type": "code",
   "execution_count": 42,
   "metadata": {},
   "outputs": [
    {
     "name": "stdout",
     "output_type": "stream",
     "text": [
      "False\n",
      "That's not quite right. Explanation: Clear Communication: Articulates goals and ideas clearly, ensuring everyone understands the direction.. A good leader demonstrates clear communication by articulating their goals and ideas clearly, which is essential for ensuring everyone understands the direction. Option A is incorrect because empowerment is a separate characteristic that involves providing autonomy and trust to team members. Option C is also incorrect because active listening is about paying attention to team members' concerns and feedback, not articulating goals and ideas. Option D is incorrect because accountability is about taking responsibility for both successes and failures, not communicating clearly.\n"
     ]
    }
   ],
   "source": [
    "mc_incorrect_evaluation = answer_evaluator.evaluate_answer(easy_mc_question, 'A')\n",
    "print(mc_incorrect_evaluation['is_correct'])\n",
    "print(mc_incorrect_evaluation['feedback'])"
   ]
  },
  {
   "cell_type": "markdown",
   "metadata": {},
   "source": [
    "#### Free-text"
   ]
  },
  {
   "cell_type": "code",
   "execution_count": 46,
   "metadata": {},
   "outputs": [],
   "source": [
    "answer = 'A diverse team can foster innovation by bringing together individuals with different backgrounds, experiences, and expertise. This diversity enables the team to approach problems from multiple angles, leading to more creative solutions. For example, consider a company developing a new product for an aging population. A team consisting of members from different age groups, ethnicities, and abilities would be better equipped to understand the needs and challenges faced by this demographic. By applying EDI principles, the company can ensure that the product is not only inclusive but also accessible to people with disabilities. This might involve consulting with accessibility experts, conducting user testing with individuals from diverse backgrounds, and incorporating feedback to refine the design. Through this process, the team would be able to create a product that meets the needs of its target audience, ultimately driving business success while promoting social responsibility.'"
   ]
  },
  {
   "cell_type": "code",
   "execution_count": 47,
   "metadata": {},
   "outputs": [
    {
     "name": "stdout",
     "output_type": "stream",
     "text": [
      "True\n",
      "Excellent job on explaining how a diverse team can foster innovation! Your example of developing a product for an aging population is clear and well-supported. You've also done a great job applying EDI principles to ensure that the product is inclusive and accessible. One minor suggestion I have is to consider providing more specific examples or details about how consulting with accessibility experts and conducting user testing can be implemented in practice. However, overall, your answer demonstrates a strong understanding of the topic and effectively addresses all key points.\n"
     ]
    }
   ],
   "source": [
    "ft_correct_evaluation = answer_evaluator.evaluate_answer(easy_free_text_question, answer)\n",
    "print(ft_correct_evaluation['is_correct'])\n",
    "print(ft_correct_evaluation['feedback'])"
   ]
  },
  {
   "cell_type": "code",
   "execution_count": 48,
   "metadata": {},
   "outputs": [
    {
     "name": "stdout",
     "output_type": "stream",
     "text": [
      "False\n",
      "Here is the evaluation of the student's answer:\n",
      "\n",
      "{\n",
      "    \"is_correct\": Partially,\n",
      "    \"feedback\": \"Hi Student, I can see that you've made a good effort to address the question. However, there are some areas where your answer deviates from the key points and reference answer.\n",
      "\n",
      "Firstly, while you mention the importance of diversity in fostering innovation, you don't explicitly explain how EDI principles ensure that products or services are inclusive and accessible. This is an important aspect that needs to be addressed.\n",
      "\n",
      "Secondly, your real-world scenario example is not as specific and detailed as the one provided in the reference answer. You could have chosen a more concrete example to illustrate how EDI principles can be applied in practice.\n",
      "\n",
      "Lastly, while you mention cross-functional collaboration and fostering an inclusive environment, these points are not directly related to the key points I mentioned earlier. It's great that you're thinking about ways to promote diversity and inclusion, but make sure to tie your ideas back to the specific requirements of the question.\n",
      "\n",
      "Overall, with some refinement and attention to detail, your answer could be even stronger! Keep up the good work.\"\n",
      "}\n"
     ]
    }
   ],
   "source": [
    "ft_partially_correct_evaluation = answer_evaluator.evaluate_answer(easy_free_text_question, 'To balance the need for diversity and inclusion with the potential risks of groupthink, organizations can employ several strategies. Firstly, they can encourage cross-functional collaboration by bringing together team members from different backgrounds, disciplines, and departments to work on projects. This helps to integrate diverse skill sets and viewpoints, generating innovative solutions that a single discipline might overlook.Secondly, organizations can foster an inclusive environment where everyone feels valued and respected. This involves actively creating opportunities for underrepresented groups to contribute their perspectives and ideas, and promoting empathy and understanding among team members.')\n",
    "print(ft_partially_correct_evaluation['is_correct'])\n",
    "print(ft_partially_correct_evaluation['feedback'])"
   ]
  },
  {
   "cell_type": "code",
   "execution_count": 49,
   "metadata": {},
   "outputs": [
    {
     "name": "stdout",
     "output_type": "stream",
     "text": [
      "True\n",
      "{\n",
      "    \"is_correct\": false,\n",
      "    \"feedback\": \"Hi there! I can see that you're feeling uncertain about this question. That's completely okay! However, the correct answer requires a bit more thought and explanation. Let me break it down for you.\n",
      "\n",
      "A diverse team can indeed foster innovation by bringing together individuals with different backgrounds, experiences, and expertise. This diversity enables the team to approach problems from multiple angles, leading to more creative solutions.\n",
      "\n",
      "To address a specific challenge using EDI principles, let's consider an example: developing a product for an aging population. A team consisting of members from different age groups, ethnicities, and abilities would be better equipped to understand the needs and challenges faced by this demographic.\n",
      "\n",
      "By applying EDI principles, the company can ensure that the product is not only inclusive but also accessible to people with disabilities. This might involve consulting with accessibility experts, conducting user testing with individuals from diverse backgrounds, and incorporating feedback to refine the design.\n",
      "\n",
      "In your answer, you mentioned 'I don't know the answer lol.' While it's great that you're being honest about your uncertainty, this response doesn't demonstrate any understanding of the topic or attempt to address the question. To improve, try breaking down the question into smaller parts and addressing each key point. Remember, innovation and EDI principles are all about bringing diverse perspectives together to create inclusive solutions.\n",
      "\n",
      "Don't worry if you didn't get it right this time – with practice and patience, you'll become more confident in your understanding of these concepts!\"\n"
     ]
    }
   ],
   "source": [
    "ft_incorrect_evaluation = answer_evaluator.evaluate_answer(easy_free_text_question, \"I don't know the answer lol\")\n",
    "print(ft_incorrect_evaluation['is_correct'])\n",
    "print(ft_incorrect_evaluation['feedback'])"
   ]
  },
  {
   "cell_type": "markdown",
   "metadata": {},
   "source": [
    "## Sample Conversation (includes Intent Classification and Handling)\n",
    "---"
   ]
  },
  {
   "cell_type": "code",
   "execution_count": null,
   "metadata": {},
   "outputs": [],
   "source": [
    "def process_user_input(user_input, document_data=None):\n",
    "    \"\"\"Process user input through the classifier and handler.\"\"\"\n",
    "    \n",
    "    # Classify the intent\n",
    "    intent_data = classifier.classify(user_input)\n",
    "    intent_type = intent_data[\"intent\"]\n",
    "    \n",
    "    print(f\"Classified Intent: {intent_type}\")\n",
    "    print(f\"Intent Data: {intent_data}\\n\")\n",
    "    \n",
    "    # Add document data if provided\n",
    "    if document_data:\n",
    "        intent_data[\"document_data\"] = document_data\n",
    "    \n",
    "    # Handle the intent\n",
    "    response = handler_manager.handle_intent(intent_type, intent_data)\n",
    "    \n",
    "    print(f\"Response: {response}\\n\")\n",
    "    print(\"-\" * 80)\n",
    "    \n",
    "    return response\n",
    "\n",
    "\n",
    "def run_conversation_test(conversation):\n",
    "    \"\"\"Run a simulated conversation through the system.\"\"\"\n",
    "    print(\"=== CONVERSATION TEST ===\\n\")\n",
    "    \n",
    "    for i, user_input in enumerate(conversation):\n",
    "        print(f\"User: {user_input}\")\n",
    "        response = process_user_input(user_input)\n",
    "        print(f\"System: {response.get('text', 'No response text')}\")\n",
    "        print()"
   ]
  },
  {
   "cell_type": "code",
   "execution_count": null,
   "metadata": {},
   "outputs": [],
   "source": [
    "# Define a conversation flow\n",
    "conversation = [\n",
    "    \"Start review\",\n",
    "    \"Hi, I want to upload a PDF document for review\",\n",
    "    \"Let's use free-text questions instead of multiple choice\",\n",
    "    \"I'd like to focus on Python programming topics\",\n",
    "    \"Make it challenging\",\n",
    "    \"Let's just do 3 questions\",\n",
    "    \"Start the review session\",\n",
    "    \"Object-oriented programming is a paradigm that uses objects to model real world problems\",\n",
    "    \"How am I doing so far?\",\n",
    "    \"Let's end the review\",\n",
    "    \"Thanks for the help!\"\n",
    "]\n",
    "\n",
    "run_conversation_test(conversation)"
   ]
  }
 ],
 "metadata": {
  "kernelspec": {
   "display_name": "Python 3 (ipykernel)",
   "language": "python",
   "name": "python3"
  },
  "language_info": {
   "codemirror_mode": {
    "name": "ipython",
    "version": 3
   },
   "file_extension": ".py",
   "mimetype": "text/x-python",
   "name": "python",
   "nbconvert_exporter": "python",
   "pygments_lexer": "ipython3",
   "version": "3.11.11"
  }
 },
 "nbformat": 4,
 "nbformat_minor": 4
}
