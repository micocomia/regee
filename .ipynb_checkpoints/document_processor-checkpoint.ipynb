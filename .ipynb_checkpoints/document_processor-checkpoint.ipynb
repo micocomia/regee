{
 "cells": [
  {
   "cell_type": "code",
   "execution_count": null,
   "metadata": {},
   "outputs": [],
   "source": [
    "pip install python-pptx"
   ]
  },
  {
   "cell_type": "code",
   "execution_count": null,
   "metadata": {
    "scrolled": true
   },
   "outputs": [],
   "source": [
    "pip install sentence_transformers"
   ]
  },
  {
   "cell_type": "code",
   "execution_count": null,
   "metadata": {
    "scrolled": true
   },
   "outputs": [],
   "source": [
    "pip install streamlit"
   ]
  },
  {
   "cell_type": "code",
   "execution_count": null,
   "metadata": {},
   "outputs": [],
   "source": [
    "pip install PyPDF2"
   ]
  },
  {
   "cell_type": "code",
   "execution_count": null,
   "metadata": {},
   "outputs": [],
   "source": [
    "import os\n",
    "import sys"
   ]
  },
  {
   "cell_type": "code",
   "execution_count": null,
   "metadata": {},
   "outputs": [],
   "source": [
    "# Build an absolute path from this notebook's parent directory\n",
    "module_path = os.path.abspath(os.path.join('src'))\n",
    "\n",
    "# Add to sys.path if not already present\n",
    "if module_path not in sys.path:\n",
    "    sys.path.append(module_path)\n",
    "\n",
    "# Now you can import the desired function or class\n",
    "from document_processor import DocumentProcessor"
   ]
  },
  {
   "cell_type": "code",
   "execution_count": null,
   "metadata": {},
   "outputs": [],
   "source": [
    "# Test the processor\n",
    "print(\"Initializing DocumentProcessor...\")\n",
    "processor = DocumentProcessor()\n"
   ]
  },
  {
   "cell_type": "code",
   "execution_count": null,
   "metadata": {},
   "outputs": [],
   "source": [
    "# Test with PDF file\n",
    "pdf_path = r\"test/test.pdf\"\n",
    "print(f\"Testing PDF processing: {pdf_path}\")\n",
    "try:\n",
    "    pdf_chunks = processor.process_document(pdf_path)\n",
    "    print(f\"Successfully processed PDF into {len(pdf_chunks)} chunks\")\n",
    "    if pdf_chunks:\n",
    "        print(f\"First chunk content: {pdf_chunks[0]['content'][:100]}...\")\n",
    "        print(f\"Topics identified: {pdf_chunks[0]['metadata']['topics']}\")\n",
    "        print(f\"Page number: {pdf_chunks[0]['metadata']['page_number']}\")\n",
    "except Exception as e:\n",
    "    print(f\"Error processing PDF: {str(e)}\")\n",
    "    import traceback\n",
    "    traceback.print_exc()\n"
   ]
  },
  {
   "cell_type": "code",
   "execution_count": null,
   "metadata": {},
   "outputs": [],
   "source": [
    "# Test with PowerPoint file\n",
    "pptx_path = r\"test/test.pptx\"\n",
    "print(f\"\\nTesting PowerPoint processing: {pptx_path}\")\n",
    "try:\n",
    "    pptx_chunks = processor.process_document(pptx_path)\n",
    "    print(f\"Successfully processed PowerPoint into {len(pptx_chunks)} chunks\")\n",
    "    if pptx_chunks:\n",
    "        print(f\"First chunk content: {pptx_chunks[0]['content'][:100]}...\")\n",
    "        print(f\"Topics identified: {pptx_chunks[0]['metadata']['topics']}\")\n",
    "        print(f\"Slide number: {pptx_chunks[0]['metadata']['page_number']}\")\n",
    "except Exception as e:\n",
    "    print(f\"Error processing PPTX: {str(e)}\")\n",
    "    import traceback\n",
    "    traceback.print_exc()"
   ]
  },
  {
   "cell_type": "code",
   "execution_count": null,
   "metadata": {},
   "outputs": [],
   "source": []
  }
 ],
 "metadata": {
  "kernelspec": {
   "display_name": "Python 3 (ipykernel)",
   "language": "python",
   "name": "python3"
  },
  "language_info": {
   "codemirror_mode": {
    "name": "ipython",
    "version": 3
   },
   "file_extension": ".py",
   "mimetype": "text/x-python",
   "name": "python",
   "nbconvert_exporter": "python",
   "pygments_lexer": "ipython3",
   "version": "3.11.11"
  }
 },
 "nbformat": 4,
 "nbformat_minor": 4
}
